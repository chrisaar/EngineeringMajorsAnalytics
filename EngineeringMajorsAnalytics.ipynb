{
 "cells": [
  {
   "cell_type": "markdown",
   "metadata": {},
   "source": [
    "# Introduction\n",
    "\n",
    "## Trigger Warning: career-related anxiety\n",
    "\n",
    "This notebook discusses the potentially negative employment outcomes of certain engineering major choices in very blunt terms. If you are an engineering student and prone to anxiety, reading this notebook may be a significant trigger. Proceed with caution.\n",
    "\n",
    "## Goal\n",
    "\n",
    "The goal of this project is to make some educated, data-driven guesses as to how likely an new engineering graduate is to find an entry-level engineering job in their discipline within a given year in the United States. As it currently stands, ***engineering majors are not created equal!*** Some are in high demand while others have extremely saturated job markets and, unfortunately, this is not common knowledge.\n",
    "\n",
    "## Objectives\n",
    "\n",
    "The objectives behind this goal are:\n",
    "* For high-school and incoming college students, inform their educational decisions\n",
    "* For current engineering students, help them assess how their current academic program may or may not match their career expectations\n",
    "** For some students, this may entail right out switching majors\n",
    "** For others, this may mean complementing their education through work experience, relevant extracurricular activities and/or ramping up their networking effort with industry professionals\n",
    "At the very least, this effort should serve the purpose of informing them of what to expect as they graduate, something that simply is not done enough.\n",
    "\n",
    "## Justification\n",
    "\n",
    "Likelihood of finding a job is not the **ONLY** factor that should be taken into account when making career choices; but, on the other hand, it is currently underweighed by large swaths of the higher education student body.\n",
    "\n",
    "Getting a bachelor's degree is a large investment of time, money and effort. Specifically, the money investment is split between education costs (tuition, fees, housing near college, living expenses, commuting costs, etc.) and foregone full-time wages while in school (usually these are much larger than tuition and fees, and you do not escape them even in countries with fully subsidized higher education). Therefore, not being able to find a full-time job relevant to one's college degree soon is a real, bonafide tragedy for most graduates.\n",
    "\n",
    "## Note from the author\n",
    "\n",
    "This effort has been done in good faith. I realize this may upset or discourage some (especially students in the final stages of one of the engineering programs described as having saturated job markets); this is not the intention. Nevertheless, I believe finding out about this early enough at the cost of anxiety is a much lesser tragedy than actually graduating after investing 4 or so years just to end up in less than favorable circumstances w.r.t. employment, in addition to the same anxiety (or worse).\n",
    "\n",
    "Please feel free to run this Jupyter Notebook, check the results, judge the assumptions made and, if appropriate, contest the conclusions. Feedback (as filed issues or pull requests) is not only appreciated but encouraged."
   ]
  },
  {
   "cell_type": "code",
   "execution_count": 1,
   "metadata": {
    "tags": []
   },
   "outputs": [],
   "source": [
    "import os\n",
    "from typing import Tuple\n",
    "from urllib import request, parse\n",
    "from pathlib import PurePath\n",
    "\n",
    "import pandas as pd\n",
    "from pandas._typing import FrameOrSeries"
   ]
  },
  {
   "cell_type": "markdown",
   "metadata": {},
   "source": [
    "# Get the data\n",
    "\n",
    "First, a small helper function to download files from the net."
   ]
  },
  {
   "cell_type": "code",
   "execution_count": 2,
   "metadata": {},
   "outputs": [],
   "source": [
    "def retrieve_file_from_net(url : str) -> str:\n",
    "    \"\"\" Download a file from a URL and save it to the local directory \"\"\"\n",
    "    parse_result : Tuple = parse.urlparse(url)\n",
    "    filename : str = PurePath(parse_result.path).name\n",
    "    local_path : str = os.path.join(\".\", filename)\n",
    "    local_path, http_message = request.urlretrieve(url, local_path)\n",
    "    print(http_message)\n",
    "    return local_path"
   ]
  },
  {
   "cell_type": "markdown",
   "metadata": {},
   "source": [
    "## Engineering graduation rates\n",
    "\n",
    "The graduation information used in this notebook comes from the 2018 \"Engineering by the Numbers\" report published by the American Society for Engineering Education (http://www.asee.org); the full report can be found [here](https://ira.asee.org/wp-content/uploads/2019/07/2018-Engineering-by-Numbers-Engineering-Statistics-UPDATED-15-July-2019.pdf).\n",
    "\n",
    "Specifically, the spreadsheets this next block downloads contains the number of 2018 engineering graduates per engineering discipline."
   ]
  },
  {
   "cell_type": "code",
   "execution_count": 3,
   "metadata": {
    "tags": []
   },
   "outputs": [
    {
     "output_type": "stream",
     "name": "stdout",
     "text": "Date: Wed, 19 Aug 2020 20:07:30 GMT\nServer: Apache/2.4.6 (CentOS) OpenSSL/1.0.2k-fips PHP/7.2.23\nLast-Modified: Mon, 15 Jul 2019 18:55:28 GMT\nETag: \"28a0-58dbccdb92d63\"\nAccept-Ranges: bytes\nContent-Length: 10400\nConnection: close\nContent-Type: application/vnd.openxmlformats-officedocument.spreadsheetml.sheet\n\n\n.\\Table1a.bachelors-Degrees-Awarded-by-Engineering-Discipline-over-5k.xlsx\nDate: Wed, 19 Aug 2020 20:07:30 GMT\nServer: Apache/2.4.6 (CentOS) OpenSSL/1.0.2k-fips PHP/7.2.23\nLast-Modified: Mon, 15 Jul 2019 18:55:28 GMT\nETag: \"242a-58dbccdbda201\"\nAccept-Ranges: bytes\nContent-Length: 9258\nConnection: close\nContent-Type: application/vnd.openxmlformats-officedocument.spreadsheetml.sheet\n\n\n.\\Table1b.bachelors-Degrees-Awarded-by-Engineering-Discipline-under-5k.xlsx\n"
    }
   ],
   "source": [
    "GRADUATION_DATA_1_URL : str = \"http://ira.asee.org/wp-content/uploads/2019/07/Table1a.bachelors-Degrees-Awarded-by-Engineering-Discipline-over-5k.xlsx\"\n",
    "GRADUATION_DATA_2_URL : str = \"http://ira.asee.org/wp-content/uploads/2019/07/Table1b.bachelors-Degrees-Awarded-by-Engineering-Discipline-under-5k.xlsx\"\n",
    "\n",
    "grad1_path : str = retrieve_file_from_net(GRADUATION_DATA_1_URL)\n",
    "print(grad1_path)\n",
    "\n",
    "grad2_path : str = retrieve_file_from_net(GRADUATION_DATA_2_URL)\n",
    "print(grad2_path)"
   ]
  },
  {
   "cell_type": "markdown",
   "metadata": {},
   "source": [
    "## Employment projections data\n",
    "\n",
    "This data from the US Bureau of Labor Statistics (http://www.bls.gov) contains employment projections per occupation in the United States between the years 2018 and 2028."
   ]
  },
  {
   "cell_type": "code",
   "execution_count": 4,
   "metadata": {
    "tags": []
   },
   "outputs": [
    {
     "output_type": "stream",
     "name": "stdout",
     "text": "Content-Type: application/vnd.openxmlformats-officedocument.spreadsheetml.sheet\nLast-Modified: Thu, 16 Apr 2020 17:00:42 GMT\nAccept-Ranges: bytes\nETag: \"8b17f98f1014d61:0\"\nX-Frame-Options: sameorigin\nX-XSS-Protection: 1; mode=block\nP3P: CP=\"NOI DSP COR NID CURaADMa OUR STP\"\nContent-Length: 531966\nStrict-Transport-Security: max-age=31536000; includeSubDomains\nPool-Info: WP2\nDate: Wed, 19 Aug 2020 20:07:32 GMT\nConnection: close\n\n\n.\\occupation.XLSX\n"
    }
   ],
   "source": [
    "EMPLOYMENT_DATA_URL : str = \"https://www.bls.gov/emp/ind-occ-matrix/occupation.XLSX\"\n",
    "\n",
    "emp_path : str = retrieve_file_from_net(EMPLOYMENT_DATA_URL)\n",
    "print(emp_path)"
   ]
  },
  {
   "cell_type": "markdown",
   "metadata": {},
   "source": [
    "# Prepare the data\n",
    "\n",
    "## Engineering graduation rates\n",
    "\n",
    "### Some helper functions"
   ]
  },
  {
   "cell_type": "code",
   "execution_count": 5,
   "metadata": {},
   "outputs": [],
   "source": [
    "def get_grad_count_by_major(df : FrameOrSeries, major : str) -> float:\n",
    "    \"\"\" Returns the graduate count for a given major \"\"\"\n",
    "    return float(df.loc[df[\"major\"] == major, \"num_grads\"])\n",
    "\n",
    "def set_grad_count_by_major(df : FrameOrSeries, major : str, grad_count : float) -> None:\n",
    "    \"\"\" Sets the graduate count for a given major to a given value \"\"\"\n",
    "    df.loc[df[\"major\"] == major, \"num_grads\"] = grad_count\n",
    "\n",
    "def rename_major(df : FrameOrSeries, major : str, new_major : str) -> None:\n",
    "    \"\"\" Renames a given major \"\"\"\n",
    "    df.loc[df[\"major\"] == major, \"major\"] = new_major\n",
    "\n",
    "def drop_major(df : FrameOrSeries, major : str) -> None:\n",
    "    \"\"\" Drops a major (entire row) from data frame\n",
    "    \n",
    "    explanation: https://thispointer.com/python-pandas-how-to-drop-rows-in-dataframe-by-conditions-on-column-values/\n",
    "    \"\"\"\n",
    "    df.drop(df[df[\"major\"] == major].index, inplace=True)\n",
    "    df.reset_index(drop=True, inplace=True) # Regenerating the row labels"
   ]
  },
  {
   "cell_type": "markdown",
   "metadata": {},
   "source": [
    "### Loading data into Pandas"
   ]
  },
  {
   "cell_type": "code",
   "execution_count": 6,
   "metadata": {},
   "outputs": [
    {
     "output_type": "execute_result",
     "data": {
      "text/plain": "                                           Discipline   Degree\n0                                          Mechanical  31936.0\n1                     Computer Science (Inside Engr.)  19082.0\n2                                          Electrical  13767.0\n3                                               Civil  12221.0\n4                                            Chemical  11586.0\n5                    Computer Science (Outside Engr.)  10398.0\n6                                            Computer   7906.0\n7                                          Biomedical   7130.0\n8                           Industrial/Manuf./Systems   6690.0\n9                                               Other   5629.0\n10                                                NaN      NaN\n11                                                NaN      NaN\n12  Table1a.bachelors Degrees Awarded by Engineeri...      NaN\n13  Source: ASEE  2018 Profiles of Engineering and...      NaN",
      "text/html": "<div>\n<style scoped>\n    .dataframe tbody tr th:only-of-type {\n        vertical-align: middle;\n    }\n\n    .dataframe tbody tr th {\n        vertical-align: top;\n    }\n\n    .dataframe thead th {\n        text-align: right;\n    }\n</style>\n<table border=\"1\" class=\"dataframe\">\n  <thead>\n    <tr style=\"text-align: right;\">\n      <th></th>\n      <th>Discipline</th>\n      <th>Degree</th>\n    </tr>\n  </thead>\n  <tbody>\n    <tr>\n      <th>0</th>\n      <td>Mechanical</td>\n      <td>31936.0</td>\n    </tr>\n    <tr>\n      <th>1</th>\n      <td>Computer Science (Inside Engr.)</td>\n      <td>19082.0</td>\n    </tr>\n    <tr>\n      <th>2</th>\n      <td>Electrical</td>\n      <td>13767.0</td>\n    </tr>\n    <tr>\n      <th>3</th>\n      <td>Civil</td>\n      <td>12221.0</td>\n    </tr>\n    <tr>\n      <th>4</th>\n      <td>Chemical</td>\n      <td>11586.0</td>\n    </tr>\n    <tr>\n      <th>5</th>\n      <td>Computer Science (Outside Engr.)</td>\n      <td>10398.0</td>\n    </tr>\n    <tr>\n      <th>6</th>\n      <td>Computer</td>\n      <td>7906.0</td>\n    </tr>\n    <tr>\n      <th>7</th>\n      <td>Biomedical</td>\n      <td>7130.0</td>\n    </tr>\n    <tr>\n      <th>8</th>\n      <td>Industrial/Manuf./Systems</td>\n      <td>6690.0</td>\n    </tr>\n    <tr>\n      <th>9</th>\n      <td>Other</td>\n      <td>5629.0</td>\n    </tr>\n    <tr>\n      <th>10</th>\n      <td>NaN</td>\n      <td>NaN</td>\n    </tr>\n    <tr>\n      <th>11</th>\n      <td>NaN</td>\n      <td>NaN</td>\n    </tr>\n    <tr>\n      <th>12</th>\n      <td>Table1a.bachelors Degrees Awarded by Engineeri...</td>\n      <td>NaN</td>\n    </tr>\n    <tr>\n      <th>13</th>\n      <td>Source: ASEE  2018 Profiles of Engineering and...</td>\n      <td>NaN</td>\n    </tr>\n  </tbody>\n</table>\n</div>"
     },
     "metadata": {},
     "execution_count": 6
    }
   ],
   "source": [
    "grad1_df : FrameOrSeries = pd.read_excel(io=grad1_path, sheet_name=\"By Disciplines\", skiprows=[-1])\n",
    "grad1_df"
   ]
  },
  {
   "cell_type": "code",
   "execution_count": 7,
   "metadata": {},
   "outputs": [
    {
     "output_type": "execute_result",
     "data": {
      "text/plain": "                                           Discipline  Degree\n0                                           Aerospace  4148.0\n1                                 Electrical/Computer  3344.0\n2                                           Petroleum  2118.0\n3                               Engineering (General)  2062.0\n4                             Metallurgical/Materials  1907.0\n5                             Biological/Agricultural  1388.0\n6                                       Environmental  1288.0\n7                             Civil and Environmental  1156.0\n8                     Engr. Science and Engr. Physics   861.0\n9                                       Architectural   642.0\n10                             Engineering Management   567.0\n11                                            Nuclear   560.0\n12                                             Mining   245.0\n13                                                NaN     NaN\n14                                                NaN     NaN\n15  Table1b.bachelors Degrees Awarded by Engineeri...     NaN\n16  Source: ASEE  2018 Profiles of Engineering and...     NaN",
      "text/html": "<div>\n<style scoped>\n    .dataframe tbody tr th:only-of-type {\n        vertical-align: middle;\n    }\n\n    .dataframe tbody tr th {\n        vertical-align: top;\n    }\n\n    .dataframe thead th {\n        text-align: right;\n    }\n</style>\n<table border=\"1\" class=\"dataframe\">\n  <thead>\n    <tr style=\"text-align: right;\">\n      <th></th>\n      <th>Discipline</th>\n      <th>Degree</th>\n    </tr>\n  </thead>\n  <tbody>\n    <tr>\n      <th>0</th>\n      <td>Aerospace</td>\n      <td>4148.0</td>\n    </tr>\n    <tr>\n      <th>1</th>\n      <td>Electrical/Computer</td>\n      <td>3344.0</td>\n    </tr>\n    <tr>\n      <th>2</th>\n      <td>Petroleum</td>\n      <td>2118.0</td>\n    </tr>\n    <tr>\n      <th>3</th>\n      <td>Engineering (General)</td>\n      <td>2062.0</td>\n    </tr>\n    <tr>\n      <th>4</th>\n      <td>Metallurgical/Materials</td>\n      <td>1907.0</td>\n    </tr>\n    <tr>\n      <th>5</th>\n      <td>Biological/Agricultural</td>\n      <td>1388.0</td>\n    </tr>\n    <tr>\n      <th>6</th>\n      <td>Environmental</td>\n      <td>1288.0</td>\n    </tr>\n    <tr>\n      <th>7</th>\n      <td>Civil and Environmental</td>\n      <td>1156.0</td>\n    </tr>\n    <tr>\n      <th>8</th>\n      <td>Engr. Science and Engr. Physics</td>\n      <td>861.0</td>\n    </tr>\n    <tr>\n      <th>9</th>\n      <td>Architectural</td>\n      <td>642.0</td>\n    </tr>\n    <tr>\n      <th>10</th>\n      <td>Engineering Management</td>\n      <td>567.0</td>\n    </tr>\n    <tr>\n      <th>11</th>\n      <td>Nuclear</td>\n      <td>560.0</td>\n    </tr>\n    <tr>\n      <th>12</th>\n      <td>Mining</td>\n      <td>245.0</td>\n    </tr>\n    <tr>\n      <th>13</th>\n      <td>NaN</td>\n      <td>NaN</td>\n    </tr>\n    <tr>\n      <th>14</th>\n      <td>NaN</td>\n      <td>NaN</td>\n    </tr>\n    <tr>\n      <th>15</th>\n      <td>Table1b.bachelors Degrees Awarded by Engineeri...</td>\n      <td>NaN</td>\n    </tr>\n    <tr>\n      <th>16</th>\n      <td>Source: ASEE  2018 Profiles of Engineering and...</td>\n      <td>NaN</td>\n    </tr>\n  </tbody>\n</table>\n</div>"
     },
     "metadata": {},
     "execution_count": 7
    }
   ],
   "source": [
    "grad2_df : FrameOrSeries = pd.read_excel(io=grad2_path, sheet_name=\"By Disciplines\", skiprows=[-1])\n",
    "grad2_df"
   ]
  },
  {
   "cell_type": "markdown",
   "metadata": {},
   "source": [
    "### Culling unnecessary rows"
   ]
  },
  {
   "cell_type": "code",
   "execution_count": 8,
   "metadata": {},
   "outputs": [
    {
     "output_type": "execute_result",
     "data": {
      "text/plain": "                         Discipline   Degree\n0                        Mechanical  31936.0\n1   Computer Science (Inside Engr.)  19082.0\n2                        Electrical  13767.0\n3                             Civil  12221.0\n4                          Chemical  11586.0\n5  Computer Science (Outside Engr.)  10398.0\n6                          Computer   7906.0\n7                        Biomedical   7130.0\n8         Industrial/Manuf./Systems   6690.0\n9                             Other   5629.0",
      "text/html": "<div>\n<style scoped>\n    .dataframe tbody tr th:only-of-type {\n        vertical-align: middle;\n    }\n\n    .dataframe tbody tr th {\n        vertical-align: top;\n    }\n\n    .dataframe thead th {\n        text-align: right;\n    }\n</style>\n<table border=\"1\" class=\"dataframe\">\n  <thead>\n    <tr style=\"text-align: right;\">\n      <th></th>\n      <th>Discipline</th>\n      <th>Degree</th>\n    </tr>\n  </thead>\n  <tbody>\n    <tr>\n      <th>0</th>\n      <td>Mechanical</td>\n      <td>31936.0</td>\n    </tr>\n    <tr>\n      <th>1</th>\n      <td>Computer Science (Inside Engr.)</td>\n      <td>19082.0</td>\n    </tr>\n    <tr>\n      <th>2</th>\n      <td>Electrical</td>\n      <td>13767.0</td>\n    </tr>\n    <tr>\n      <th>3</th>\n      <td>Civil</td>\n      <td>12221.0</td>\n    </tr>\n    <tr>\n      <th>4</th>\n      <td>Chemical</td>\n      <td>11586.0</td>\n    </tr>\n    <tr>\n      <th>5</th>\n      <td>Computer Science (Outside Engr.)</td>\n      <td>10398.0</td>\n    </tr>\n    <tr>\n      <th>6</th>\n      <td>Computer</td>\n      <td>7906.0</td>\n    </tr>\n    <tr>\n      <th>7</th>\n      <td>Biomedical</td>\n      <td>7130.0</td>\n    </tr>\n    <tr>\n      <th>8</th>\n      <td>Industrial/Manuf./Systems</td>\n      <td>6690.0</td>\n    </tr>\n    <tr>\n      <th>9</th>\n      <td>Other</td>\n      <td>5629.0</td>\n    </tr>\n  </tbody>\n</table>\n</div>"
     },
     "metadata": {},
     "execution_count": 8
    }
   ],
   "source": [
    "grad1_df = grad1_df[0:10]\n",
    "grad1_df"
   ]
  },
  {
   "cell_type": "code",
   "execution_count": 9,
   "metadata": {},
   "outputs": [
    {
     "output_type": "execute_result",
     "data": {
      "text/plain": "                         Discipline  Degree\n0                         Aerospace  4148.0\n1               Electrical/Computer  3344.0\n2                         Petroleum  2118.0\n3             Engineering (General)  2062.0\n4           Metallurgical/Materials  1907.0\n5           Biological/Agricultural  1388.0\n6                     Environmental  1288.0\n7           Civil and Environmental  1156.0\n8   Engr. Science and Engr. Physics   861.0\n9                     Architectural   642.0\n10           Engineering Management   567.0\n11                          Nuclear   560.0\n12                           Mining   245.0",
      "text/html": "<div>\n<style scoped>\n    .dataframe tbody tr th:only-of-type {\n        vertical-align: middle;\n    }\n\n    .dataframe tbody tr th {\n        vertical-align: top;\n    }\n\n    .dataframe thead th {\n        text-align: right;\n    }\n</style>\n<table border=\"1\" class=\"dataframe\">\n  <thead>\n    <tr style=\"text-align: right;\">\n      <th></th>\n      <th>Discipline</th>\n      <th>Degree</th>\n    </tr>\n  </thead>\n  <tbody>\n    <tr>\n      <th>0</th>\n      <td>Aerospace</td>\n      <td>4148.0</td>\n    </tr>\n    <tr>\n      <th>1</th>\n      <td>Electrical/Computer</td>\n      <td>3344.0</td>\n    </tr>\n    <tr>\n      <th>2</th>\n      <td>Petroleum</td>\n      <td>2118.0</td>\n    </tr>\n    <tr>\n      <th>3</th>\n      <td>Engineering (General)</td>\n      <td>2062.0</td>\n    </tr>\n    <tr>\n      <th>4</th>\n      <td>Metallurgical/Materials</td>\n      <td>1907.0</td>\n    </tr>\n    <tr>\n      <th>5</th>\n      <td>Biological/Agricultural</td>\n      <td>1388.0</td>\n    </tr>\n    <tr>\n      <th>6</th>\n      <td>Environmental</td>\n      <td>1288.0</td>\n    </tr>\n    <tr>\n      <th>7</th>\n      <td>Civil and Environmental</td>\n      <td>1156.0</td>\n    </tr>\n    <tr>\n      <th>8</th>\n      <td>Engr. Science and Engr. Physics</td>\n      <td>861.0</td>\n    </tr>\n    <tr>\n      <th>9</th>\n      <td>Architectural</td>\n      <td>642.0</td>\n    </tr>\n    <tr>\n      <th>10</th>\n      <td>Engineering Management</td>\n      <td>567.0</td>\n    </tr>\n    <tr>\n      <th>11</th>\n      <td>Nuclear</td>\n      <td>560.0</td>\n    </tr>\n    <tr>\n      <th>12</th>\n      <td>Mining</td>\n      <td>245.0</td>\n    </tr>\n  </tbody>\n</table>\n</div>"
     },
     "metadata": {},
     "execution_count": 9
    }
   ],
   "source": [
    "grad2_df = grad2_df[0:13]\n",
    "grad2_df"
   ]
  },
  {
   "cell_type": "markdown",
   "metadata": {},
   "source": [
    "### Merging both tables into one contiguous one"
   ]
  },
  {
   "cell_type": "code",
   "execution_count": 10,
   "metadata": {},
   "outputs": [
    {
     "output_type": "execute_result",
     "data": {
      "text/plain": "                               major  num_grads\n0                         Mechanical    31936.0\n1    Computer Science (Inside Engr.)    19082.0\n2                         Electrical    13767.0\n3                              Civil    12221.0\n4                           Chemical    11586.0\n5   Computer Science (Outside Engr.)    10398.0\n6                           Computer     7906.0\n7                         Biomedical     7130.0\n8          Industrial/Manuf./Systems     6690.0\n9                              Other     5629.0\n10                         Aerospace     4148.0\n11               Electrical/Computer     3344.0\n12                         Petroleum     2118.0\n13             Engineering (General)     2062.0\n14           Metallurgical/Materials     1907.0\n15           Biological/Agricultural     1388.0\n16                     Environmental     1288.0\n17           Civil and Environmental     1156.0\n18   Engr. Science and Engr. Physics      861.0\n19                     Architectural      642.0\n20            Engineering Management      567.0\n21                           Nuclear      560.0\n22                            Mining      245.0",
      "text/html": "<div>\n<style scoped>\n    .dataframe tbody tr th:only-of-type {\n        vertical-align: middle;\n    }\n\n    .dataframe tbody tr th {\n        vertical-align: top;\n    }\n\n    .dataframe thead th {\n        text-align: right;\n    }\n</style>\n<table border=\"1\" class=\"dataframe\">\n  <thead>\n    <tr style=\"text-align: right;\">\n      <th></th>\n      <th>major</th>\n      <th>num_grads</th>\n    </tr>\n  </thead>\n  <tbody>\n    <tr>\n      <th>0</th>\n      <td>Mechanical</td>\n      <td>31936.0</td>\n    </tr>\n    <tr>\n      <th>1</th>\n      <td>Computer Science (Inside Engr.)</td>\n      <td>19082.0</td>\n    </tr>\n    <tr>\n      <th>2</th>\n      <td>Electrical</td>\n      <td>13767.0</td>\n    </tr>\n    <tr>\n      <th>3</th>\n      <td>Civil</td>\n      <td>12221.0</td>\n    </tr>\n    <tr>\n      <th>4</th>\n      <td>Chemical</td>\n      <td>11586.0</td>\n    </tr>\n    <tr>\n      <th>5</th>\n      <td>Computer Science (Outside Engr.)</td>\n      <td>10398.0</td>\n    </tr>\n    <tr>\n      <th>6</th>\n      <td>Computer</td>\n      <td>7906.0</td>\n    </tr>\n    <tr>\n      <th>7</th>\n      <td>Biomedical</td>\n      <td>7130.0</td>\n    </tr>\n    <tr>\n      <th>8</th>\n      <td>Industrial/Manuf./Systems</td>\n      <td>6690.0</td>\n    </tr>\n    <tr>\n      <th>9</th>\n      <td>Other</td>\n      <td>5629.0</td>\n    </tr>\n    <tr>\n      <th>10</th>\n      <td>Aerospace</td>\n      <td>4148.0</td>\n    </tr>\n    <tr>\n      <th>11</th>\n      <td>Electrical/Computer</td>\n      <td>3344.0</td>\n    </tr>\n    <tr>\n      <th>12</th>\n      <td>Petroleum</td>\n      <td>2118.0</td>\n    </tr>\n    <tr>\n      <th>13</th>\n      <td>Engineering (General)</td>\n      <td>2062.0</td>\n    </tr>\n    <tr>\n      <th>14</th>\n      <td>Metallurgical/Materials</td>\n      <td>1907.0</td>\n    </tr>\n    <tr>\n      <th>15</th>\n      <td>Biological/Agricultural</td>\n      <td>1388.0</td>\n    </tr>\n    <tr>\n      <th>16</th>\n      <td>Environmental</td>\n      <td>1288.0</td>\n    </tr>\n    <tr>\n      <th>17</th>\n      <td>Civil and Environmental</td>\n      <td>1156.0</td>\n    </tr>\n    <tr>\n      <th>18</th>\n      <td>Engr. Science and Engr. Physics</td>\n      <td>861.0</td>\n    </tr>\n    <tr>\n      <th>19</th>\n      <td>Architectural</td>\n      <td>642.0</td>\n    </tr>\n    <tr>\n      <th>20</th>\n      <td>Engineering Management</td>\n      <td>567.0</td>\n    </tr>\n    <tr>\n      <th>21</th>\n      <td>Nuclear</td>\n      <td>560.0</td>\n    </tr>\n    <tr>\n      <th>22</th>\n      <td>Mining</td>\n      <td>245.0</td>\n    </tr>\n  </tbody>\n</table>\n</div>"
     },
     "metadata": {},
     "execution_count": 10
    }
   ],
   "source": [
    "grad_df : FrameOrSeries = pd.concat([grad1_df, grad2_df], ignore_index=True)\n",
    "grad_df.columns = [\"major\", \"num_grads\"]\n",
    "grad_df"
   ]
  },
  {
   "cell_type": "markdown",
   "metadata": {},
   "source": [
    "### Merging Computer Science\n",
    "\n",
    "Merging the two rows for Computer Science (it does not matter whether the CS program at a school was in the school of engineering or another school within the university)."
   ]
  },
  {
   "cell_type": "code",
   "execution_count": 11,
   "metadata": {
    "tags": []
   },
   "outputs": [
    {
     "output_type": "execute_result",
     "data": {
      "text/plain": "                              major  num_grads\n0                        Mechanical    31936.0\n1                  Computer Science    29480.0\n2                        Electrical    13767.0\n3                             Civil    12221.0\n4                          Chemical    11586.0\n5                          Computer     7906.0\n6                        Biomedical     7130.0\n7         Industrial/Manuf./Systems     6690.0\n8                             Other     5629.0\n9                         Aerospace     4148.0\n10              Electrical/Computer     3344.0\n11                        Petroleum     2118.0\n12            Engineering (General)     2062.0\n13          Metallurgical/Materials     1907.0\n14          Biological/Agricultural     1388.0\n15                    Environmental     1288.0\n16          Civil and Environmental     1156.0\n17  Engr. Science and Engr. Physics      861.0\n18                    Architectural      642.0\n19           Engineering Management      567.0\n20                          Nuclear      560.0\n21                           Mining      245.0",
      "text/html": "<div>\n<style scoped>\n    .dataframe tbody tr th:only-of-type {\n        vertical-align: middle;\n    }\n\n    .dataframe tbody tr th {\n        vertical-align: top;\n    }\n\n    .dataframe thead th {\n        text-align: right;\n    }\n</style>\n<table border=\"1\" class=\"dataframe\">\n  <thead>\n    <tr style=\"text-align: right;\">\n      <th></th>\n      <th>major</th>\n      <th>num_grads</th>\n    </tr>\n  </thead>\n  <tbody>\n    <tr>\n      <th>0</th>\n      <td>Mechanical</td>\n      <td>31936.0</td>\n    </tr>\n    <tr>\n      <th>1</th>\n      <td>Computer Science</td>\n      <td>29480.0</td>\n    </tr>\n    <tr>\n      <th>2</th>\n      <td>Electrical</td>\n      <td>13767.0</td>\n    </tr>\n    <tr>\n      <th>3</th>\n      <td>Civil</td>\n      <td>12221.0</td>\n    </tr>\n    <tr>\n      <th>4</th>\n      <td>Chemical</td>\n      <td>11586.0</td>\n    </tr>\n    <tr>\n      <th>5</th>\n      <td>Computer</td>\n      <td>7906.0</td>\n    </tr>\n    <tr>\n      <th>6</th>\n      <td>Biomedical</td>\n      <td>7130.0</td>\n    </tr>\n    <tr>\n      <th>7</th>\n      <td>Industrial/Manuf./Systems</td>\n      <td>6690.0</td>\n    </tr>\n    <tr>\n      <th>8</th>\n      <td>Other</td>\n      <td>5629.0</td>\n    </tr>\n    <tr>\n      <th>9</th>\n      <td>Aerospace</td>\n      <td>4148.0</td>\n    </tr>\n    <tr>\n      <th>10</th>\n      <td>Electrical/Computer</td>\n      <td>3344.0</td>\n    </tr>\n    <tr>\n      <th>11</th>\n      <td>Petroleum</td>\n      <td>2118.0</td>\n    </tr>\n    <tr>\n      <th>12</th>\n      <td>Engineering (General)</td>\n      <td>2062.0</td>\n    </tr>\n    <tr>\n      <th>13</th>\n      <td>Metallurgical/Materials</td>\n      <td>1907.0</td>\n    </tr>\n    <tr>\n      <th>14</th>\n      <td>Biological/Agricultural</td>\n      <td>1388.0</td>\n    </tr>\n    <tr>\n      <th>15</th>\n      <td>Environmental</td>\n      <td>1288.0</td>\n    </tr>\n    <tr>\n      <th>16</th>\n      <td>Civil and Environmental</td>\n      <td>1156.0</td>\n    </tr>\n    <tr>\n      <th>17</th>\n      <td>Engr. Science and Engr. Physics</td>\n      <td>861.0</td>\n    </tr>\n    <tr>\n      <th>18</th>\n      <td>Architectural</td>\n      <td>642.0</td>\n    </tr>\n    <tr>\n      <th>19</th>\n      <td>Engineering Management</td>\n      <td>567.0</td>\n    </tr>\n    <tr>\n      <th>20</th>\n      <td>Nuclear</td>\n      <td>560.0</td>\n    </tr>\n    <tr>\n      <th>21</th>\n      <td>Mining</td>\n      <td>245.0</td>\n    </tr>\n  </tbody>\n</table>\n</div>"
     },
     "metadata": {},
     "execution_count": 11
    }
   ],
   "source": [
    "cs_in_grads : float = get_grad_count_by_major(grad_df, \"Computer Science (Inside Engr.)\")\n",
    "cs_out_grads : float = get_grad_count_by_major(grad_df, \"Computer Science (Outside Engr.)\")\n",
    "\n",
    "set_grad_count_by_major(grad_df, \"Computer Science (Inside Engr.)\", (cs_in_grads + cs_out_grads))\n",
    "\n",
    "rename_major(grad_df, \"Computer Science (Inside Engr.)\", \"Computer Science\")\n",
    "\n",
    "drop_major(grad_df, \"Computer Science (Outside Engr.)\")\n",
    "\n",
    "grad_df"
   ]
  },
  {
   "cell_type": "markdown",
   "metadata": {},
   "source": [
    "### Splitting EE/CompE combined entry and merging\n",
    "\n",
    "Many universities do not have a separate computer engineering degree from their electrical engineering one. Yet, the data later used in this notebook for employment projections does specifically separate the two disciplines. So, for purposes of splitting the data from the combined degree, we will use the ratio of the two separate majors. Namely:\n",
    "\n",
    "Let EE be the number of electrical engineering graduates, CompE be the number of computer engineering graduates, and ECE the number of graduates from the combined degree.\n",
    "\n",
    "Update EE and CompE accordingly:\n",
    "\n",
    "$$EE := EE + \\frac{EE}{EE + CompE}ECE,\\;\\;\\;CompE := CompE + \\frac{CompE}{EE + CompE}ECE$$\n"
   ]
  },
  {
   "cell_type": "code",
   "execution_count": 12,
   "metadata": {
    "tags": []
   },
   "outputs": [
    {
     "output_type": "execute_result",
     "data": {
      "text/plain": "                              major  num_grads\n0                        Mechanical    31936.0\n1                  Computer Science    29480.0\n2                        Electrical    15891.0\n3                             Civil    12221.0\n4                          Chemical    11586.0\n5                          Computer     9126.0\n6                        Biomedical     7130.0\n7         Industrial/Manuf./Systems     6690.0\n8                             Other     5629.0\n9                         Aerospace     4148.0\n10                        Petroleum     2118.0\n11            Engineering (General)     2062.0\n12          Metallurgical/Materials     1907.0\n13          Biological/Agricultural     1388.0\n14                    Environmental     1288.0\n15          Civil and Environmental     1156.0\n16  Engr. Science and Engr. Physics      861.0\n17                    Architectural      642.0\n18           Engineering Management      567.0\n19                          Nuclear      560.0\n20                           Mining      245.0",
      "text/html": "<div>\n<style scoped>\n    .dataframe tbody tr th:only-of-type {\n        vertical-align: middle;\n    }\n\n    .dataframe tbody tr th {\n        vertical-align: top;\n    }\n\n    .dataframe thead th {\n        text-align: right;\n    }\n</style>\n<table border=\"1\" class=\"dataframe\">\n  <thead>\n    <tr style=\"text-align: right;\">\n      <th></th>\n      <th>major</th>\n      <th>num_grads</th>\n    </tr>\n  </thead>\n  <tbody>\n    <tr>\n      <th>0</th>\n      <td>Mechanical</td>\n      <td>31936.0</td>\n    </tr>\n    <tr>\n      <th>1</th>\n      <td>Computer Science</td>\n      <td>29480.0</td>\n    </tr>\n    <tr>\n      <th>2</th>\n      <td>Electrical</td>\n      <td>15891.0</td>\n    </tr>\n    <tr>\n      <th>3</th>\n      <td>Civil</td>\n      <td>12221.0</td>\n    </tr>\n    <tr>\n      <th>4</th>\n      <td>Chemical</td>\n      <td>11586.0</td>\n    </tr>\n    <tr>\n      <th>5</th>\n      <td>Computer</td>\n      <td>9126.0</td>\n    </tr>\n    <tr>\n      <th>6</th>\n      <td>Biomedical</td>\n      <td>7130.0</td>\n    </tr>\n    <tr>\n      <th>7</th>\n      <td>Industrial/Manuf./Systems</td>\n      <td>6690.0</td>\n    </tr>\n    <tr>\n      <th>8</th>\n      <td>Other</td>\n      <td>5629.0</td>\n    </tr>\n    <tr>\n      <th>9</th>\n      <td>Aerospace</td>\n      <td>4148.0</td>\n    </tr>\n    <tr>\n      <th>10</th>\n      <td>Petroleum</td>\n      <td>2118.0</td>\n    </tr>\n    <tr>\n      <th>11</th>\n      <td>Engineering (General)</td>\n      <td>2062.0</td>\n    </tr>\n    <tr>\n      <th>12</th>\n      <td>Metallurgical/Materials</td>\n      <td>1907.0</td>\n    </tr>\n    <tr>\n      <th>13</th>\n      <td>Biological/Agricultural</td>\n      <td>1388.0</td>\n    </tr>\n    <tr>\n      <th>14</th>\n      <td>Environmental</td>\n      <td>1288.0</td>\n    </tr>\n    <tr>\n      <th>15</th>\n      <td>Civil and Environmental</td>\n      <td>1156.0</td>\n    </tr>\n    <tr>\n      <th>16</th>\n      <td>Engr. Science and Engr. Physics</td>\n      <td>861.0</td>\n    </tr>\n    <tr>\n      <th>17</th>\n      <td>Architectural</td>\n      <td>642.0</td>\n    </tr>\n    <tr>\n      <th>18</th>\n      <td>Engineering Management</td>\n      <td>567.0</td>\n    </tr>\n    <tr>\n      <th>19</th>\n      <td>Nuclear</td>\n      <td>560.0</td>\n    </tr>\n    <tr>\n      <th>20</th>\n      <td>Mining</td>\n      <td>245.0</td>\n    </tr>\n  </tbody>\n</table>\n</div>"
     },
     "metadata": {},
     "execution_count": 12
    }
   ],
   "source": [
    "ee_grads : float = get_grad_count_by_major(grad_df, \"Electrical\")\n",
    "compe_grads : float = get_grad_count_by_major(grad_df, \"Computer\")\n",
    "ece_grads : float = get_grad_count_by_major(grad_df, \"Electrical/Computer\")\n",
    "\n",
    "ee_grads_new : float = ee_grads + round(ee_grads * ece_grads / (ee_grads + compe_grads))\n",
    "compe_grads_new : float = compe_grads + round(compe_grads * ece_grads / (ee_grads + compe_grads))\n",
    "\n",
    "set_grad_count_by_major(grad_df, \"Electrical\", ee_grads_new)\n",
    "set_grad_count_by_major(grad_df, \"Computer\", compe_grads_new)\n",
    "\n",
    "drop_major(grad_df, \"Electrical/Computer\")\n",
    "\n",
    "grad_df"
   ]
  },
  {
   "cell_type": "markdown",
   "metadata": {},
   "source": [
    "### Splitting Civil/Environmental combined entry and merging\n",
    "\n",
    "Similarly to EE and CompE, many universities do not have a separate environmental engineering degree from their civil engineering one. Yet, the data later used in this notebook for employment projections does specifically separate the two disciplines. So, for purposes of splitting the data from the combined degree, we will use the ratio of the two separate majors. Namely:\n",
    "\n",
    "Let CE be the number of civil engineering graduates, EnvE be the number of environmental engineering graduates, and CEnvE the number of graduates from the combined degree.\n",
    "\n",
    "Update CE and EnvE accordingly:\n",
    "\n",
    "$$CE := CE + \\frac{CE}{CE + EnvE}CEnvE,\\;\\;\\;EnvE := EnvE + \\frac{EnvE}{CE + EnvE}CEnvE$$\n"
   ]
  },
  {
   "cell_type": "code",
   "execution_count": 13,
   "metadata": {},
   "outputs": [
    {
     "output_type": "execute_result",
     "data": {
      "text/plain": "                              major  num_grads\n0                        Mechanical    31936.0\n1                  Computer Science    29480.0\n2                        Electrical    15891.0\n3                             Civil    13267.0\n4                          Chemical    11586.0\n5                          Computer     9126.0\n6                        Biomedical     7130.0\n7         Industrial/Manuf./Systems     6690.0\n8                             Other     5629.0\n9                         Aerospace     4148.0\n10                        Petroleum     2118.0\n11            Engineering (General)     2062.0\n12          Metallurgical/Materials     1907.0\n13          Biological/Agricultural     1388.0\n14                    Environmental     1398.0\n15  Engr. Science and Engr. Physics      861.0\n16                    Architectural      642.0\n17           Engineering Management      567.0\n18                          Nuclear      560.0\n19                           Mining      245.0",
      "text/html": "<div>\n<style scoped>\n    .dataframe tbody tr th:only-of-type {\n        vertical-align: middle;\n    }\n\n    .dataframe tbody tr th {\n        vertical-align: top;\n    }\n\n    .dataframe thead th {\n        text-align: right;\n    }\n</style>\n<table border=\"1\" class=\"dataframe\">\n  <thead>\n    <tr style=\"text-align: right;\">\n      <th></th>\n      <th>major</th>\n      <th>num_grads</th>\n    </tr>\n  </thead>\n  <tbody>\n    <tr>\n      <th>0</th>\n      <td>Mechanical</td>\n      <td>31936.0</td>\n    </tr>\n    <tr>\n      <th>1</th>\n      <td>Computer Science</td>\n      <td>29480.0</td>\n    </tr>\n    <tr>\n      <th>2</th>\n      <td>Electrical</td>\n      <td>15891.0</td>\n    </tr>\n    <tr>\n      <th>3</th>\n      <td>Civil</td>\n      <td>13267.0</td>\n    </tr>\n    <tr>\n      <th>4</th>\n      <td>Chemical</td>\n      <td>11586.0</td>\n    </tr>\n    <tr>\n      <th>5</th>\n      <td>Computer</td>\n      <td>9126.0</td>\n    </tr>\n    <tr>\n      <th>6</th>\n      <td>Biomedical</td>\n      <td>7130.0</td>\n    </tr>\n    <tr>\n      <th>7</th>\n      <td>Industrial/Manuf./Systems</td>\n      <td>6690.0</td>\n    </tr>\n    <tr>\n      <th>8</th>\n      <td>Other</td>\n      <td>5629.0</td>\n    </tr>\n    <tr>\n      <th>9</th>\n      <td>Aerospace</td>\n      <td>4148.0</td>\n    </tr>\n    <tr>\n      <th>10</th>\n      <td>Petroleum</td>\n      <td>2118.0</td>\n    </tr>\n    <tr>\n      <th>11</th>\n      <td>Engineering (General)</td>\n      <td>2062.0</td>\n    </tr>\n    <tr>\n      <th>12</th>\n      <td>Metallurgical/Materials</td>\n      <td>1907.0</td>\n    </tr>\n    <tr>\n      <th>13</th>\n      <td>Biological/Agricultural</td>\n      <td>1388.0</td>\n    </tr>\n    <tr>\n      <th>14</th>\n      <td>Environmental</td>\n      <td>1398.0</td>\n    </tr>\n    <tr>\n      <th>15</th>\n      <td>Engr. Science and Engr. Physics</td>\n      <td>861.0</td>\n    </tr>\n    <tr>\n      <th>16</th>\n      <td>Architectural</td>\n      <td>642.0</td>\n    </tr>\n    <tr>\n      <th>17</th>\n      <td>Engineering Management</td>\n      <td>567.0</td>\n    </tr>\n    <tr>\n      <th>18</th>\n      <td>Nuclear</td>\n      <td>560.0</td>\n    </tr>\n    <tr>\n      <th>19</th>\n      <td>Mining</td>\n      <td>245.0</td>\n    </tr>\n  </tbody>\n</table>\n</div>"
     },
     "metadata": {},
     "execution_count": 13
    }
   ],
   "source": [
    "ce_grads : float = get_grad_count_by_major(grad_df, \"Civil\")\n",
    "enve_grads : float = get_grad_count_by_major(grad_df, \"Environmental\")\n",
    "cenve_grads : float = get_grad_count_by_major(grad_df, \"Civil and Environmental\")\n",
    "\n",
    "ce_grads_new : float = ce_grads + round(ce_grads * cenve_grads / (ce_grads + enve_grads))\n",
    "enve_grads_new : float = enve_grads + round(enve_grads * cenve_grads / (ce_grads + enve_grads))\n",
    "\n",
    "set_grad_count_by_major(grad_df, \"Civil\", ce_grads_new)\n",
    "set_grad_count_by_major(grad_df, \"Environmental\", enve_grads_new)\n",
    "\n",
    "drop_major(grad_df, \"Civil and Environmental\")\n",
    "\n",
    "grad_df"
   ]
  },
  {
   "cell_type": "markdown",
   "metadata": {},
   "source": [
    "### Splitting Architectural Engineering\n",
    "\n",
    "Architectural engineering (or building engineering) is a comparetively new major, and is focused on building design as a whole, taking elements from civil, mechanical and electrical engineering. Unfortunately, the data from the US Bureau of Labor Statistics does not have employment data specific to this career; so, for purposes of splitting the data from the combined degree, we will use the ratio of those three separate majors to split architectural engineering graduates. Namely:\n",
    "\n",
    "Let CE be the number of civil engineering graduates, ME be the number of mechanical engineering graduates, EE the number of electrical engineering graduates and ArchE the number of architectural engineering graduates.\n",
    "\n",
    "Update CE, ME and EE accordingly:\n",
    "\n",
    "$$CE := CE + \\frac{CE}{CE + ME + EE}ArchE,\\;\\;\\;ME := ME + \\frac{ME}{CE + ME + EE}ArchE,\\;\\;\\;EE := EE + \\frac{EE}{CE + ME + EE}ArchE$$\n"
   ]
  },
  {
   "cell_type": "code",
   "execution_count": 14,
   "metadata": {},
   "outputs": [
    {
     "output_type": "execute_result",
     "data": {
      "text/plain": "                              major  num_grads\n0                        Mechanical    32272.0\n1                  Computer Science    29480.0\n2                        Electrical    16058.0\n3                             Civil    13406.0\n4                          Chemical    11586.0\n5                          Computer     9126.0\n6                        Biomedical     7130.0\n7         Industrial/Manuf./Systems     6690.0\n8                             Other     5629.0\n9                         Aerospace     4148.0\n10                        Petroleum     2118.0\n11            Engineering (General)     2062.0\n12          Metallurgical/Materials     1907.0\n13          Biological/Agricultural     1388.0\n14                    Environmental     1398.0\n15  Engr. Science and Engr. Physics      861.0\n16           Engineering Management      567.0\n17                          Nuclear      560.0\n18                           Mining      245.0",
      "text/html": "<div>\n<style scoped>\n    .dataframe tbody tr th:only-of-type {\n        vertical-align: middle;\n    }\n\n    .dataframe tbody tr th {\n        vertical-align: top;\n    }\n\n    .dataframe thead th {\n        text-align: right;\n    }\n</style>\n<table border=\"1\" class=\"dataframe\">\n  <thead>\n    <tr style=\"text-align: right;\">\n      <th></th>\n      <th>major</th>\n      <th>num_grads</th>\n    </tr>\n  </thead>\n  <tbody>\n    <tr>\n      <th>0</th>\n      <td>Mechanical</td>\n      <td>32272.0</td>\n    </tr>\n    <tr>\n      <th>1</th>\n      <td>Computer Science</td>\n      <td>29480.0</td>\n    </tr>\n    <tr>\n      <th>2</th>\n      <td>Electrical</td>\n      <td>16058.0</td>\n    </tr>\n    <tr>\n      <th>3</th>\n      <td>Civil</td>\n      <td>13406.0</td>\n    </tr>\n    <tr>\n      <th>4</th>\n      <td>Chemical</td>\n      <td>11586.0</td>\n    </tr>\n    <tr>\n      <th>5</th>\n      <td>Computer</td>\n      <td>9126.0</td>\n    </tr>\n    <tr>\n      <th>6</th>\n      <td>Biomedical</td>\n      <td>7130.0</td>\n    </tr>\n    <tr>\n      <th>7</th>\n      <td>Industrial/Manuf./Systems</td>\n      <td>6690.0</td>\n    </tr>\n    <tr>\n      <th>8</th>\n      <td>Other</td>\n      <td>5629.0</td>\n    </tr>\n    <tr>\n      <th>9</th>\n      <td>Aerospace</td>\n      <td>4148.0</td>\n    </tr>\n    <tr>\n      <th>10</th>\n      <td>Petroleum</td>\n      <td>2118.0</td>\n    </tr>\n    <tr>\n      <th>11</th>\n      <td>Engineering (General)</td>\n      <td>2062.0</td>\n    </tr>\n    <tr>\n      <th>12</th>\n      <td>Metallurgical/Materials</td>\n      <td>1907.0</td>\n    </tr>\n    <tr>\n      <th>13</th>\n      <td>Biological/Agricultural</td>\n      <td>1388.0</td>\n    </tr>\n    <tr>\n      <th>14</th>\n      <td>Environmental</td>\n      <td>1398.0</td>\n    </tr>\n    <tr>\n      <th>15</th>\n      <td>Engr. Science and Engr. Physics</td>\n      <td>861.0</td>\n    </tr>\n    <tr>\n      <th>16</th>\n      <td>Engineering Management</td>\n      <td>567.0</td>\n    </tr>\n    <tr>\n      <th>17</th>\n      <td>Nuclear</td>\n      <td>560.0</td>\n    </tr>\n    <tr>\n      <th>18</th>\n      <td>Mining</td>\n      <td>245.0</td>\n    </tr>\n  </tbody>\n</table>\n</div>"
     },
     "metadata": {},
     "execution_count": 14
    }
   ],
   "source": [
    "ce_grads : float = get_grad_count_by_major(grad_df, \"Civil\")\n",
    "me_grads : float = get_grad_count_by_major(grad_df, \"Mechanical\")\n",
    "ee_grads : float = get_grad_count_by_major(grad_df, \"Electrical\")\n",
    "arche_grads : float = get_grad_count_by_major(grad_df, \"Architectural\")\n",
    "\n",
    "ce_grads_new : float = ce_grads + round(ce_grads * arche_grads / (ce_grads + me_grads + ee_grads))\n",
    "me_grads_new : float = me_grads + round(me_grads * arche_grads / (ce_grads + me_grads + ee_grads))\n",
    "ee_grads_new : float = ee_grads + round(ee_grads * arche_grads / (ce_grads + me_grads + ee_grads))\n",
    "\n",
    "set_grad_count_by_major(grad_df, \"Civil\", ce_grads_new)\n",
    "set_grad_count_by_major(grad_df, \"Mechanical\", me_grads_new)\n",
    "set_grad_count_by_major(grad_df, \"Electrical\", ee_grads_new)\n",
    "\n",
    "drop_major(grad_df, \"Architectural\")\n",
    "\n",
    "grad_df"
   ]
  },
  {
   "cell_type": "markdown",
   "metadata": {},
   "source": [
    "### Splitting Engineering (General) and Other\n",
    "\n",
    "A bachelor's of engineering (BEng) in the United States usually implies a degree that (i) is highly flexible and (ii) is not accredited by ABET. Due to its flexibility, likely the most proper course of action is to find a way to distribute it across other majors to better match their respective occupation.\n",
    "\n",
    "The \"Other\" entry likely refers to uncommon engineering degrees that likely end up leading into occupations related to othermore established majors. They should likely be handled like the BEng degree.\n",
    "\n",
    "For purposes of this notebook, we will exclude computer science.\n",
    "\n",
    "Following the same conventions as above:\n",
    "\n",
    "* Let ME be the number of mechanical engineering graduates\n",
    "* Let EE be the number of electrical engineering graduates\n",
    "* Let CE be the number of civil engineering graduates\n",
    "* Let ChemE be the number of chemical engineering graduates\n",
    "* Let CompE be the number of computer engineering graduates\n",
    "* Let BioME be the number of biomedical engineering graduates\n",
    "* Let IndE be the number of industrial, manufacturing and systems engineering graduates\n",
    "* Let AE be the number of aerospace engineering graduates\n",
    "* Let PE be the number of petroleum engineering graduates\n",
    "* Let MatE be the number of materials and metallurgic engineering graduates\n",
    "* Let AgrE be the number of agriculture and biological engineering graduates\n",
    "* Let EnvE be the number of environmental engineering graduates\n",
    "* Let NE be the number of nuclear engineering graduates\n",
    "* Let MinE be the number of mining engineering graduates\n",
    "* Let GE be the number of engineering (general) graduates\n",
    "* Let OE be the number of graduates of other engineering programs\n",
    "\n",
    "For each engineering disciplines except the last two, update as follows\n",
    "\n",
    "$$E := E + \\frac{E}{ME + EE + ...}(GE + OE)$$"
   ]
  },
  {
   "cell_type": "code",
   "execution_count": 15,
   "metadata": {},
   "outputs": [
    {
     "output_type": "execute_result",
     "data": {
      "text/plain": "                              major  num_grads\n0                        Mechanical    34570.0\n1                  Computer Science    29480.0\n2                        Electrical    17201.0\n3                             Civil    14360.0\n4                          Chemical    12411.0\n5                          Computer     9776.0\n6                        Biomedical     7638.0\n7         Industrial/Manuf./Systems     7166.0\n8                         Aerospace     4443.0\n9                         Petroleum     2269.0\n10          Metallurgical/Materials     2043.0\n11          Biological/Agricultural     1487.0\n12                    Environmental     1498.0\n13  Engr. Science and Engr. Physics      861.0\n14           Engineering Management      567.0\n15                          Nuclear      600.0\n16                           Mining      262.0",
      "text/html": "<div>\n<style scoped>\n    .dataframe tbody tr th:only-of-type {\n        vertical-align: middle;\n    }\n\n    .dataframe tbody tr th {\n        vertical-align: top;\n    }\n\n    .dataframe thead th {\n        text-align: right;\n    }\n</style>\n<table border=\"1\" class=\"dataframe\">\n  <thead>\n    <tr style=\"text-align: right;\">\n      <th></th>\n      <th>major</th>\n      <th>num_grads</th>\n    </tr>\n  </thead>\n  <tbody>\n    <tr>\n      <th>0</th>\n      <td>Mechanical</td>\n      <td>34570.0</td>\n    </tr>\n    <tr>\n      <th>1</th>\n      <td>Computer Science</td>\n      <td>29480.0</td>\n    </tr>\n    <tr>\n      <th>2</th>\n      <td>Electrical</td>\n      <td>17201.0</td>\n    </tr>\n    <tr>\n      <th>3</th>\n      <td>Civil</td>\n      <td>14360.0</td>\n    </tr>\n    <tr>\n      <th>4</th>\n      <td>Chemical</td>\n      <td>12411.0</td>\n    </tr>\n    <tr>\n      <th>5</th>\n      <td>Computer</td>\n      <td>9776.0</td>\n    </tr>\n    <tr>\n      <th>6</th>\n      <td>Biomedical</td>\n      <td>7638.0</td>\n    </tr>\n    <tr>\n      <th>7</th>\n      <td>Industrial/Manuf./Systems</td>\n      <td>7166.0</td>\n    </tr>\n    <tr>\n      <th>8</th>\n      <td>Aerospace</td>\n      <td>4443.0</td>\n    </tr>\n    <tr>\n      <th>9</th>\n      <td>Petroleum</td>\n      <td>2269.0</td>\n    </tr>\n    <tr>\n      <th>10</th>\n      <td>Metallurgical/Materials</td>\n      <td>2043.0</td>\n    </tr>\n    <tr>\n      <th>11</th>\n      <td>Biological/Agricultural</td>\n      <td>1487.0</td>\n    </tr>\n    <tr>\n      <th>12</th>\n      <td>Environmental</td>\n      <td>1498.0</td>\n    </tr>\n    <tr>\n      <th>13</th>\n      <td>Engr. Science and Engr. Physics</td>\n      <td>861.0</td>\n    </tr>\n    <tr>\n      <th>14</th>\n      <td>Engineering Management</td>\n      <td>567.0</td>\n    </tr>\n    <tr>\n      <th>15</th>\n      <td>Nuclear</td>\n      <td>600.0</td>\n    </tr>\n    <tr>\n      <th>16</th>\n      <td>Mining</td>\n      <td>262.0</td>\n    </tr>\n  </tbody>\n</table>\n</div>"
     },
     "metadata": {},
     "execution_count": 15
    }
   ],
   "source": [
    "me_grads : float = get_grad_count_by_major(grad_df, \"Mechanical\")\n",
    "ee_grads : float = get_grad_count_by_major(grad_df, \"Electrical\")\n",
    "ce_grads : float = get_grad_count_by_major(grad_df, \"Civil\")\n",
    "cheme_grads : float = get_grad_count_by_major(grad_df, \"Chemical\")\n",
    "compe_grads : float = get_grad_count_by_major(grad_df, \"Computer\")\n",
    "biome_grads : float = get_grad_count_by_major(grad_df, \"Biomedical\")\n",
    "inde_grads : float = get_grad_count_by_major(grad_df, \"Industrial/Manuf./Systems\")\n",
    "ae_grads : float = get_grad_count_by_major(grad_df, \"Aerospace\")\n",
    "pe_grads : float = get_grad_count_by_major(grad_df, \"Petroleum\")\n",
    "mate_grads : float = get_grad_count_by_major(grad_df, \"Metallurgical/Materials\")\n",
    "agre_grads : float = get_grad_count_by_major(grad_df, \"Biological/Agricultural\")\n",
    "enve_grads : float = get_grad_count_by_major(grad_df, \"Environmental\")\n",
    "ne_grads : float = get_grad_count_by_major(grad_df, \"Nuclear\")\n",
    "mine_grads : float = get_grad_count_by_major(grad_df, \"Mining\")\n",
    "ge_grads : float = get_grad_count_by_major(grad_df, \"Engineering (General)\")\n",
    "oe_grads : float = get_grad_count_by_major(grad_df, \"Other\")\n",
    "\n",
    "denominator : float = me_grads + ee_grads + ce_grads + cheme_grads + compe_grads + biome_grads + inde_grads + ae_grads + pe_grads + mate_grads + agre_grads + enve_grads + ne_grads + mine_grads\n",
    "\n",
    "me_grads_new : float = me_grads + round(me_grads * (ge_grads + oe_grads) / denominator)\n",
    "ee_grads_new : float = ee_grads + round(ee_grads * (ge_grads + oe_grads) / denominator)\n",
    "ce_grads_new : float = ce_grads + round(ce_grads * (ge_grads + oe_grads) / denominator)\n",
    "cheme_grads_new : float = cheme_grads + round(cheme_grads * (ge_grads + oe_grads) / denominator)\n",
    "compe_grads_new : float = compe_grads + round(compe_grads * (ge_grads + oe_grads) / denominator)\n",
    "biome_grads_new : float = biome_grads + round(biome_grads * (ge_grads + oe_grads) / denominator)\n",
    "inde_grads_new : float = inde_grads + round(inde_grads * (ge_grads + oe_grads) / denominator)\n",
    "ae_grads_new : float = ae_grads + round(ae_grads * (ge_grads + oe_grads) / denominator)\n",
    "pe_grads_new : float = pe_grads + round(pe_grads * (ge_grads + oe_grads) / denominator)\n",
    "mate_grads_new : float = mate_grads + round(mate_grads * (ge_grads + oe_grads) / denominator)\n",
    "agre_grads_new : float = agre_grads + round(agre_grads * (ge_grads + oe_grads) / denominator)\n",
    "enve_grads_new : float = enve_grads + round(enve_grads * (ge_grads + oe_grads) / denominator)\n",
    "ne_grads_new : float = ne_grads + round(ne_grads * (ge_grads + oe_grads) / denominator)\n",
    "mine_grads_new : float = mine_grads + round(mine_grads * (ge_grads + oe_grads) / denominator)\n",
    "\n",
    "set_grad_count_by_major(grad_df, \"Mechanical\", me_grads_new)\n",
    "set_grad_count_by_major(grad_df, \"Electrical\", ee_grads_new)\n",
    "set_grad_count_by_major(grad_df, \"Civil\", ce_grads_new)\n",
    "set_grad_count_by_major(grad_df, \"Chemical\", cheme_grads_new)\n",
    "set_grad_count_by_major(grad_df, \"Computer\", compe_grads_new)\n",
    "set_grad_count_by_major(grad_df, \"Biomedical\", biome_grads_new)\n",
    "set_grad_count_by_major(grad_df, \"Industrial/Manuf./Systems\", inde_grads_new)\n",
    "set_grad_count_by_major(grad_df, \"Aerospace\", ae_grads_new)\n",
    "set_grad_count_by_major(grad_df, \"Petroleum\", pe_grads_new)\n",
    "set_grad_count_by_major(grad_df, \"Metallurgical/Materials\", mate_grads_new)\n",
    "set_grad_count_by_major(grad_df, \"Biological/Agricultural\", agre_grads_new)\n",
    "set_grad_count_by_major(grad_df, \"Environmental\", enve_grads_new)\n",
    "set_grad_count_by_major(grad_df, \"Nuclear\", ne_grads_new)\n",
    "set_grad_count_by_major(grad_df, \"Mining\", mine_grads_new)\n",
    "\n",
    "drop_major(grad_df, \"Engineering (General)\")\n",
    "drop_major(grad_df, \"Other\")\n",
    "\n",
    "grad_df"
   ]
  },
  {
   "cell_type": "markdown",
   "metadata": {},
   "source": [
    "### Specific considerations for certain majors\n",
    "\n",
    "#### Computer Science\n",
    "\n",
    "There is debate on whether computer science should be considered an engineering major, both in CS and in more traditional engineering circles.\n",
    "\n",
    "Arguments in favor:\n",
    "\n",
    "* In the United States, computer science programs are usually part of the school of engineering within a university more often than not (source: \"Engineering by the Numbers\" 2018 report referenced above).\n",
    "* The American Society for Engineering Education (from where the graduation data used in this notebook comes from) tracks computer science regardless of whether hosted within a school of engineering or not.\n",
    "* A common designation for the most typical occupation a computer science graduate usually pursues is \"software engineer\".\n",
    "* It is said that many software development jobs do not really apply principles of science and mathematics to their work. Although, this difference is already taken into account in the occupation data from the US Bureau of Labor Statistics by having separate entries for \"Computer programmer\" (signaling less complex job with more mundane, non-mathematical tasks, usually under the perview of a software developer or engineer) and \"Web developer\" (for development tasks related to web-specific, technical yet simple tasks such as front-end development). This notebook intentionally kept both of those categories (that sometimes siphon some computer science graduates) out of the occupations considered for computer science.\n",
    "* In some countries and several American states the \"engineer\" designation is protected and usually gatekept by a professional licensure exam. Nonetheless, tens of thousands of engineers in engineering disciplines never go on to take such exam, yet they still practice engineering. Therefore, using the PE exam to \"keep computer science out of engineering\" is inconsistent.\n",
    "\n",
    "Decision: keep major\n",
    "\n",
    "#### Engineering Science and Engineering Physics\n",
    "\n",
    "These majors support and often participate in engineering work as individual contributors, so I would normally include them as engineering majors. Nevertheless, the US Bureau of Labor Statistics does not keep separate occupational data for careers that directly match these majors.\n",
    "\n",
    "Decision: drop majors\n",
    "\n",
    "#### Engineering Management\n",
    "\n",
    "Management in engineering usually come from two sources: senior engineers moving into management roles, or people initially trained in management who serve in supporting, non-technical roles until they achieve enough seniority to take on leadership (e.g. a newly graduated videogame producer who eventually becomes game development manager).\n",
    "\n",
    "Neither of these roles are immediately available to new engineering graduates, and therefore are not counted in this report.\n",
    "\n",
    "Decision: drop major"
   ]
  },
  {
   "cell_type": "code",
   "execution_count": 16,
   "metadata": {},
   "outputs": [
    {
     "output_type": "execute_result",
     "data": {
      "text/plain": "                        major  num_grads\n0                  Mechanical    34570.0\n1            Computer Science    29480.0\n2                  Electrical    17201.0\n3                       Civil    14360.0\n4                    Chemical    12411.0\n5                    Computer     9776.0\n6                  Biomedical     7638.0\n7   Industrial/Manuf./Systems     7166.0\n8                   Aerospace     4443.0\n9                   Petroleum     2269.0\n10    Metallurgical/Materials     2043.0\n11    Biological/Agricultural     1487.0\n12              Environmental     1498.0\n13                    Nuclear      600.0\n14                     Mining      262.0",
      "text/html": "<div>\n<style scoped>\n    .dataframe tbody tr th:only-of-type {\n        vertical-align: middle;\n    }\n\n    .dataframe tbody tr th {\n        vertical-align: top;\n    }\n\n    .dataframe thead th {\n        text-align: right;\n    }\n</style>\n<table border=\"1\" class=\"dataframe\">\n  <thead>\n    <tr style=\"text-align: right;\">\n      <th></th>\n      <th>major</th>\n      <th>num_grads</th>\n    </tr>\n  </thead>\n  <tbody>\n    <tr>\n      <th>0</th>\n      <td>Mechanical</td>\n      <td>34570.0</td>\n    </tr>\n    <tr>\n      <th>1</th>\n      <td>Computer Science</td>\n      <td>29480.0</td>\n    </tr>\n    <tr>\n      <th>2</th>\n      <td>Electrical</td>\n      <td>17201.0</td>\n    </tr>\n    <tr>\n      <th>3</th>\n      <td>Civil</td>\n      <td>14360.0</td>\n    </tr>\n    <tr>\n      <th>4</th>\n      <td>Chemical</td>\n      <td>12411.0</td>\n    </tr>\n    <tr>\n      <th>5</th>\n      <td>Computer</td>\n      <td>9776.0</td>\n    </tr>\n    <tr>\n      <th>6</th>\n      <td>Biomedical</td>\n      <td>7638.0</td>\n    </tr>\n    <tr>\n      <th>7</th>\n      <td>Industrial/Manuf./Systems</td>\n      <td>7166.0</td>\n    </tr>\n    <tr>\n      <th>8</th>\n      <td>Aerospace</td>\n      <td>4443.0</td>\n    </tr>\n    <tr>\n      <th>9</th>\n      <td>Petroleum</td>\n      <td>2269.0</td>\n    </tr>\n    <tr>\n      <th>10</th>\n      <td>Metallurgical/Materials</td>\n      <td>2043.0</td>\n    </tr>\n    <tr>\n      <th>11</th>\n      <td>Biological/Agricultural</td>\n      <td>1487.0</td>\n    </tr>\n    <tr>\n      <th>12</th>\n      <td>Environmental</td>\n      <td>1498.0</td>\n    </tr>\n    <tr>\n      <th>13</th>\n      <td>Nuclear</td>\n      <td>600.0</td>\n    </tr>\n    <tr>\n      <th>14</th>\n      <td>Mining</td>\n      <td>262.0</td>\n    </tr>\n  </tbody>\n</table>\n</div>"
     },
     "metadata": {},
     "execution_count": 16
    }
   ],
   "source": [
    "drop_major(grad_df, \"Engr. Science and Engr. Physics\")\n",
    "drop_major(grad_df, \"Engineering Management\")\n",
    "\n",
    "grad_df"
   ]
  },
  {
   "cell_type": "markdown",
   "metadata": {},
   "source": [
    "## Employment projections data"
   ]
  },
  {
   "cell_type": "markdown",
   "metadata": {},
   "source": [
    "### Helper functions"
   ]
  },
  {
   "cell_type": "code",
   "execution_count": 17,
   "metadata": {},
   "outputs": [],
   "source": [
    "def get_job_count_by_occupation(df : FrameOrSeries, occupation : str) -> float:\n",
    "    \"\"\" Returns the average annual humber of job openings for a given occupation \"\"\"\n",
    "    return float(df.loc[df[\"occupation\"] == occupation, \"num_jobs\"])"
   ]
  },
  {
   "cell_type": "markdown",
   "metadata": {},
   "source": [
    "### Loading data into Pandas"
   ]
  },
  {
   "cell_type": "code",
   "execution_count": 18,
   "metadata": {
    "tags": []
   },
   "outputs": [
    {
     "output_type": "execute_result",
     "data": {
      "text/plain": "         2018 National Employment Matrix title and code Unnamed: 1  \\\n0                                                   NaN        NaN   \n1                                                   NaN        NaN   \n2                                Total, all occupations    00-0000   \n3                                Management occupations    11-0000   \n4                                        Top executives    11-1000   \n...                                                 ...        ...   \n1074          Refuse and recyclable material collectors    53-7081   \n1075                         Mine shuttle car operators    53-7111   \n1076                  Tank car, truck, and ship loaders    53-7121   \n1077                 Material moving workers, all other    53-7199   \n1078  Source: Employment Projections program, U.S. B...        NaN   \n\n     Occupation type Employment  Unnamed: 4            Unnamed: 5  Unnamed: 6  \\\n0                NaN     Number         NaN  Percent distribution         NaN   \n1                NaN       2018      2028.0                  2018      2028.0   \n2            Summary     161038    169435.9                   100       100.0   \n3            Summary    10193.3     10900.2                   6.3         6.4   \n4            Summary     2691.5      2844.8                   1.7         1.7   \n...              ...        ...         ...                   ...         ...   \n1074       Line item        133       143.9                   0.1         0.1   \n1075       Line item        1.7         1.3                     0         0.0   \n1076       Line item        9.1         9.2                     0         0.0   \n1077       Line item       27.6        28.9                     0         0.0   \n1078             NaN        NaN         NaN                   NaN         NaN   \n\n     Change, 2018-28 Unnamed: 8  Occupational openings, 2018-28 annual average  \n0                NaN        NaN                                            NaN  \n1             Number    Percent                                            NaN  \n2             8398.1        5.2                                        19694.0  \n3              706.9        6.9                                          955.1  \n4              153.4        5.7                                          251.1  \n...              ...        ...                                            ...  \n1074            10.9        8.2                                           20.2  \n1075            -0.4      -25.3                                            0.1  \n1076             0.1        1.5                                            1.2  \n1077             1.3        4.7                                            3.7  \n1078             NaN        NaN                                            NaN  \n\n[1079 rows x 10 columns]",
      "text/html": "<div>\n<style scoped>\n    .dataframe tbody tr th:only-of-type {\n        vertical-align: middle;\n    }\n\n    .dataframe tbody tr th {\n        vertical-align: top;\n    }\n\n    .dataframe thead th {\n        text-align: right;\n    }\n</style>\n<table border=\"1\" class=\"dataframe\">\n  <thead>\n    <tr style=\"text-align: right;\">\n      <th></th>\n      <th>2018 National Employment Matrix title and code</th>\n      <th>Unnamed: 1</th>\n      <th>Occupation type</th>\n      <th>Employment</th>\n      <th>Unnamed: 4</th>\n      <th>Unnamed: 5</th>\n      <th>Unnamed: 6</th>\n      <th>Change, 2018-28</th>\n      <th>Unnamed: 8</th>\n      <th>Occupational openings, 2018-28 annual average</th>\n    </tr>\n  </thead>\n  <tbody>\n    <tr>\n      <th>0</th>\n      <td>NaN</td>\n      <td>NaN</td>\n      <td>NaN</td>\n      <td>Number</td>\n      <td>NaN</td>\n      <td>Percent distribution</td>\n      <td>NaN</td>\n      <td>NaN</td>\n      <td>NaN</td>\n      <td>NaN</td>\n    </tr>\n    <tr>\n      <th>1</th>\n      <td>NaN</td>\n      <td>NaN</td>\n      <td>NaN</td>\n      <td>2018</td>\n      <td>2028.0</td>\n      <td>2018</td>\n      <td>2028.0</td>\n      <td>Number</td>\n      <td>Percent</td>\n      <td>NaN</td>\n    </tr>\n    <tr>\n      <th>2</th>\n      <td>Total, all occupations</td>\n      <td>00-0000</td>\n      <td>Summary</td>\n      <td>161038</td>\n      <td>169435.9</td>\n      <td>100</td>\n      <td>100.0</td>\n      <td>8398.1</td>\n      <td>5.2</td>\n      <td>19694.0</td>\n    </tr>\n    <tr>\n      <th>3</th>\n      <td>Management occupations</td>\n      <td>11-0000</td>\n      <td>Summary</td>\n      <td>10193.3</td>\n      <td>10900.2</td>\n      <td>6.3</td>\n      <td>6.4</td>\n      <td>706.9</td>\n      <td>6.9</td>\n      <td>955.1</td>\n    </tr>\n    <tr>\n      <th>4</th>\n      <td>Top executives</td>\n      <td>11-1000</td>\n      <td>Summary</td>\n      <td>2691.5</td>\n      <td>2844.8</td>\n      <td>1.7</td>\n      <td>1.7</td>\n      <td>153.4</td>\n      <td>5.7</td>\n      <td>251.1</td>\n    </tr>\n    <tr>\n      <th>...</th>\n      <td>...</td>\n      <td>...</td>\n      <td>...</td>\n      <td>...</td>\n      <td>...</td>\n      <td>...</td>\n      <td>...</td>\n      <td>...</td>\n      <td>...</td>\n      <td>...</td>\n    </tr>\n    <tr>\n      <th>1074</th>\n      <td>Refuse and recyclable material collectors</td>\n      <td>53-7081</td>\n      <td>Line item</td>\n      <td>133</td>\n      <td>143.9</td>\n      <td>0.1</td>\n      <td>0.1</td>\n      <td>10.9</td>\n      <td>8.2</td>\n      <td>20.2</td>\n    </tr>\n    <tr>\n      <th>1075</th>\n      <td>Mine shuttle car operators</td>\n      <td>53-7111</td>\n      <td>Line item</td>\n      <td>1.7</td>\n      <td>1.3</td>\n      <td>0</td>\n      <td>0.0</td>\n      <td>-0.4</td>\n      <td>-25.3</td>\n      <td>0.1</td>\n    </tr>\n    <tr>\n      <th>1076</th>\n      <td>Tank car, truck, and ship loaders</td>\n      <td>53-7121</td>\n      <td>Line item</td>\n      <td>9.1</td>\n      <td>9.2</td>\n      <td>0</td>\n      <td>0.0</td>\n      <td>0.1</td>\n      <td>1.5</td>\n      <td>1.2</td>\n    </tr>\n    <tr>\n      <th>1077</th>\n      <td>Material moving workers, all other</td>\n      <td>53-7199</td>\n      <td>Line item</td>\n      <td>27.6</td>\n      <td>28.9</td>\n      <td>0</td>\n      <td>0.0</td>\n      <td>1.3</td>\n      <td>4.7</td>\n      <td>3.7</td>\n    </tr>\n    <tr>\n      <th>1078</th>\n      <td>Source: Employment Projections program, U.S. B...</td>\n      <td>NaN</td>\n      <td>NaN</td>\n      <td>NaN</td>\n      <td>NaN</td>\n      <td>NaN</td>\n      <td>NaN</td>\n      <td>NaN</td>\n      <td>NaN</td>\n      <td>NaN</td>\n    </tr>\n  </tbody>\n</table>\n<p>1079 rows × 10 columns</p>\n</div>"
     },
     "metadata": {},
     "execution_count": 18
    }
   ],
   "source": [
    "emp_df : FrameOrSeries = pd.read_excel(io=emp_path, sheet_name=\"Table 1.2\", skiprows=[0])\n",
    "emp_df"
   ]
  },
  {
   "cell_type": "markdown",
   "metadata": {},
   "source": [
    "### Culling unnecessary rows and columns"
   ]
  },
  {
   "cell_type": "code",
   "execution_count": 19,
   "metadata": {},
   "outputs": [
    {
     "output_type": "execute_result",
     "data": {
      "text/plain": "                                            occupation  num_jobs\n90                   Software developers, applications   99200.0\n91               Software developers, systems software   35400.0\n116                                Aerospace engineers    4500.0\n117                             Agricultural engineers     200.0\n118                               Biomedical engineers    1500.0\n119                                 Chemical engineers    2400.0\n120                                    Civil engineers   28300.0\n121                        Computer hardware engineers    5200.0\n123                               Electrical engineers   13900.0\n124             Electronics engineers, except computer    9000.0\n125                            Environmental engineers    4600.0\n127  Health and safety engineers, except mining saf...    2000.0\n128                               Industrial engineers   22600.0\n129              Marine engineers and naval architects     800.0\n130                                Materials engineers    1700.0\n131                               Mechanical engineers   22900.0\n132  Mining and geological engineers, including min...     500.0\n133                                  Nuclear engineers    1100.0\n134                                Petroleum engineers    2500.0",
      "text/html": "<div>\n<style scoped>\n    .dataframe tbody tr th:only-of-type {\n        vertical-align: middle;\n    }\n\n    .dataframe tbody tr th {\n        vertical-align: top;\n    }\n\n    .dataframe thead th {\n        text-align: right;\n    }\n</style>\n<table border=\"1\" class=\"dataframe\">\n  <thead>\n    <tr style=\"text-align: right;\">\n      <th></th>\n      <th>occupation</th>\n      <th>num_jobs</th>\n    </tr>\n  </thead>\n  <tbody>\n    <tr>\n      <th>90</th>\n      <td>Software developers, applications</td>\n      <td>99200.0</td>\n    </tr>\n    <tr>\n      <th>91</th>\n      <td>Software developers, systems software</td>\n      <td>35400.0</td>\n    </tr>\n    <tr>\n      <th>116</th>\n      <td>Aerospace engineers</td>\n      <td>4500.0</td>\n    </tr>\n    <tr>\n      <th>117</th>\n      <td>Agricultural engineers</td>\n      <td>200.0</td>\n    </tr>\n    <tr>\n      <th>118</th>\n      <td>Biomedical engineers</td>\n      <td>1500.0</td>\n    </tr>\n    <tr>\n      <th>119</th>\n      <td>Chemical engineers</td>\n      <td>2400.0</td>\n    </tr>\n    <tr>\n      <th>120</th>\n      <td>Civil engineers</td>\n      <td>28300.0</td>\n    </tr>\n    <tr>\n      <th>121</th>\n      <td>Computer hardware engineers</td>\n      <td>5200.0</td>\n    </tr>\n    <tr>\n      <th>123</th>\n      <td>Electrical engineers</td>\n      <td>13900.0</td>\n    </tr>\n    <tr>\n      <th>124</th>\n      <td>Electronics engineers, except computer</td>\n      <td>9000.0</td>\n    </tr>\n    <tr>\n      <th>125</th>\n      <td>Environmental engineers</td>\n      <td>4600.0</td>\n    </tr>\n    <tr>\n      <th>127</th>\n      <td>Health and safety engineers, except mining saf...</td>\n      <td>2000.0</td>\n    </tr>\n    <tr>\n      <th>128</th>\n      <td>Industrial engineers</td>\n      <td>22600.0</td>\n    </tr>\n    <tr>\n      <th>129</th>\n      <td>Marine engineers and naval architects</td>\n      <td>800.0</td>\n    </tr>\n    <tr>\n      <th>130</th>\n      <td>Materials engineers</td>\n      <td>1700.0</td>\n    </tr>\n    <tr>\n      <th>131</th>\n      <td>Mechanical engineers</td>\n      <td>22900.0</td>\n    </tr>\n    <tr>\n      <th>132</th>\n      <td>Mining and geological engineers, including min...</td>\n      <td>500.0</td>\n    </tr>\n    <tr>\n      <th>133</th>\n      <td>Nuclear engineers</td>\n      <td>1100.0</td>\n    </tr>\n    <tr>\n      <th>134</th>\n      <td>Petroleum engineers</td>\n      <td>2500.0</td>\n    </tr>\n  </tbody>\n</table>\n</div>"
     },
     "metadata": {},
     "execution_count": 19
    }
   ],
   "source": [
    "# culling unnecessary rows at beginning and sources at the end\n",
    "emp_df = emp_df[2:1078]\n",
    "\n",
    "# dropping columns with unneeded stats\n",
    "emp_df.drop(emp_df.columns[3:9], axis=1, inplace=True)\n",
    "\n",
    "# dropping column with occupation code\n",
    "emp_df.drop(emp_df.columns[1], axis=1, inplace=True)\n",
    "\n",
    "# filtering by \"engineers\" and \"Software developers\" in occupation name\n",
    "emp_df = emp_df[emp_df['2018 National Employment Matrix title and code'].str.contains(\"engineers\") | emp_df['2018 National Employment Matrix title and code'].str.contains(\"Software developers\")]\n",
    "\n",
    "# filtering occupations traditionally named \"engineer\" but that do not require an engineering degree (e.g. train engineer)\n",
    "emp_df = emp_df[emp_df.index < 200]\n",
    "\n",
    "# removing rows for categories (as opposed to individual occupations)\n",
    "emp_df = emp_df[emp_df['Occupation type'].str.contains(\"Line item\")]\n",
    "\n",
    "# dropping column for categories (not needed anymore)\n",
    "emp_df.drop(emp_df.columns[1], axis=1, inplace=True)\n",
    "\n",
    "# renaming columns (names are unwieldly long)\n",
    "emp_df.columns = [\"occupation\", \"num_jobs\"] \n",
    "\n",
    "# Multiplying number of openings by 1000 (unit is thousands of jobs)\n",
    "emp_df[\"num_jobs\"] = emp_df[\"num_jobs\"] * 1000\n",
    "\n",
    "emp_df"
   ]
  },
  {
   "cell_type": "markdown",
   "metadata": {},
   "source": [
    "# Merging the data\n",
    "\n",
    "The next step is to match one or more specific occupations to their corresponding major.\n",
    "\n",
    "## Discussion: match vs mismatch\n",
    "\n",
    "It is well understood than many graduates go on to work on fields other than the one they received their formal education. The objective of this occupation-to-major matching is **not to imply a one-to-one correspondence** between occupation and major but, rather, it is to specify the most natural match between a university program and their intended career paths. This is somewhat easier to do in engineering (e.g. mechanical engineers naturaly map to jobs where a degree in mechanical engineering makes the most sense; likewise, computer science majors tend to map most directly to software engineer/developer jobs).\n",
    "\n",
    "Why is there a distinction between a \"direct match\" and more casual matches between graduates and jobs (e.g. a mechanical engineer getting a job as a software developer)? It is the author's belief that one is better served studying the college major that most closely matches one's desired career path. Following this assertion, an instance of a mechanical engineer going to work as a software engineer or a data scientist would be a mismatch; the mechanical engineer graduate would have been better served by graduating in computer science (for software development), or statistics or applied math (for data science).\n",
    "\n",
    "An underlying (and subjectively reasonable) assumption throughout this notebook is that one goes to university to study something they can make a career out of and, failing that, then one may look for other options as a less-than-optimal outcome. Therefore, we are only counting direct matches in our final report and using it as an optimizing metric for any proposed solutions.\n",
    "\n",
    "## Discussion: ratio of entry-level job openings to total job openings\n",
    "\n",
    "The average annual job openings per occupation data from the US Bureau of Labor Statisics does not discriminate between entry-level jobs vs. jobs that require more seniority. This means that, for a given occupation, the job openings counted are not all available to new graduates.\n",
    "\n",
    "It is a known fact that a college education often provides only a basis of knowledge to enter a field, and does not provide significant actual hands-on experience (at least not to the level expected of a mid-level worker). There is a significant cost and investmenmt to an employer in training new graduates until they become fully contributing participants at work (and, even then, professional development is something that should continue throughout one's professional career).\n",
    "\n",
    "Therefore, how can we estimate how many of the job openings for a given occupation target new graduates? It is hard to know. This notebook makes some significant assumptions, which are listed in the next two subsections.\n",
    "\n",
    "* The number of job openings available to new graduates is between **1/3 and 1/4** of total job openings.\n",
    "* The ratio of new graduate jobs to total jobs is **fairly similar across engineering disciplines**.\n",
    "\n",
    "These two are bold claims and are recognized as a significant weakness in this report. Nevertheless, if the second assumption is correct, then the resulting information is still useful at least as a method of comparison across engineering disciplines (i.e. \"off by a factor\").\n",
    "\n",
    "The data for the first claim is purely circumstantial: the author performed a search in http://www.indeed.com for entry-level jobs in technology, and found that the ratio of entry-level jobs to total jobs was around 1/3 to 1/4. There is no concrete source for the second and more significant assumption.\n",
    "\n",
    "For the rest of this notebook we will use the more optimistic value of 1/3 as the ratio of entry-level jobs to total jobs and see what types of conclusions we can draw from it.\n",
    "\n",
    "## Helper functions"
   ]
  },
  {
   "cell_type": "code",
   "execution_count": 20,
   "metadata": {},
   "outputs": [],
   "source": [
    "def get_value_by_major(df : FrameOrSeries, major : str, col_label : str) -> float:\n",
    "    \"\"\" Gets a specific column value for a given major \"\"\"\n",
    "    return float(df.loc[df[\"major\"] == major, col_label])\n",
    "\n",
    "def set_value_by_major(df : FrameOrSeries, major : str, col_label : str, value : float) -> None:\n",
    "    \"\"\" Sets a specific column value for a given major \"\"\"\n",
    "    df.loc[df[\"major\"] == major, col_label] = value\n",
    "\n",
    "def compute_stats_for_major(df : FrameOrSeries, major : str) -> None:\n",
    "    \"\"\" Computes the ratio of new graduates to entry-level jobs\n",
    "    \n",
    "    Based on the updated average annual number of job openings for a specific major, compute the \n",
    "    ratio of new graduates to estimated average annual number of entry-level job openings.\n",
    "    \"\"\"\n",
    "    num_grads : float = get_value_by_major(final_df, major, \"num_grads\")\n",
    "    num_jobs : float = get_value_by_major(final_df, major, \"num_jobs\")\n",
    "    entry_level_ratio : float = get_value_by_major(final_df, major, \"ratio_entry_level_total_jobs\")\n",
    "    final_ratio : float = num_grads / num_jobs / entry_level_ratio\n",
    "    set_value_by_major(final_df, major, \"ratio_grads_entry_level_jobs\", final_ratio)"
   ]
  },
  {
   "cell_type": "code",
   "execution_count": 21,
   "metadata": {},
   "outputs": [],
   "source": [
    "RATIO_ENTRY_LEVEL_TO_TOTAL_JOBS : float = 1.0/3.0"
   ]
  },
  {
   "cell_type": "code",
   "execution_count": 22,
   "metadata": {},
   "outputs": [
    {
     "output_type": "execute_result",
     "data": {
      "text/plain": "                        major  num_grads  num_jobs  \\\n0                  Mechanical    34570.0       0.0   \n1            Computer Science    29480.0       0.0   \n2                  Electrical    17201.0       0.0   \n3                       Civil    14360.0       0.0   \n4                    Chemical    12411.0       0.0   \n5                    Computer     9776.0       0.0   \n6                  Biomedical     7638.0       0.0   \n7   Industrial/Manuf./Systems     7166.0       0.0   \n8                   Aerospace     4443.0       0.0   \n9                   Petroleum     2269.0       0.0   \n10    Metallurgical/Materials     2043.0       0.0   \n11    Biological/Agricultural     1487.0       0.0   \n12              Environmental     1498.0       0.0   \n13                    Nuclear      600.0       0.0   \n14                     Mining      262.0       0.0   \n\n    ratio_entry_level_total_jobs  ratio_grads_entry_level_jobs  \n0                       0.333333                          -1.0  \n1                       0.333333                          -1.0  \n2                       0.333333                          -1.0  \n3                       0.333333                          -1.0  \n4                       0.333333                          -1.0  \n5                       0.333333                          -1.0  \n6                       0.333333                          -1.0  \n7                       0.333333                          -1.0  \n8                       0.333333                          -1.0  \n9                       0.333333                          -1.0  \n10                      0.333333                          -1.0  \n11                      0.333333                          -1.0  \n12                      0.333333                          -1.0  \n13                      0.333333                          -1.0  \n14                      0.333333                          -1.0  ",
      "text/html": "<div>\n<style scoped>\n    .dataframe tbody tr th:only-of-type {\n        vertical-align: middle;\n    }\n\n    .dataframe tbody tr th {\n        vertical-align: top;\n    }\n\n    .dataframe thead th {\n        text-align: right;\n    }\n</style>\n<table border=\"1\" class=\"dataframe\">\n  <thead>\n    <tr style=\"text-align: right;\">\n      <th></th>\n      <th>major</th>\n      <th>num_grads</th>\n      <th>num_jobs</th>\n      <th>ratio_entry_level_total_jobs</th>\n      <th>ratio_grads_entry_level_jobs</th>\n    </tr>\n  </thead>\n  <tbody>\n    <tr>\n      <th>0</th>\n      <td>Mechanical</td>\n      <td>34570.0</td>\n      <td>0.0</td>\n      <td>0.333333</td>\n      <td>-1.0</td>\n    </tr>\n    <tr>\n      <th>1</th>\n      <td>Computer Science</td>\n      <td>29480.0</td>\n      <td>0.0</td>\n      <td>0.333333</td>\n      <td>-1.0</td>\n    </tr>\n    <tr>\n      <th>2</th>\n      <td>Electrical</td>\n      <td>17201.0</td>\n      <td>0.0</td>\n      <td>0.333333</td>\n      <td>-1.0</td>\n    </tr>\n    <tr>\n      <th>3</th>\n      <td>Civil</td>\n      <td>14360.0</td>\n      <td>0.0</td>\n      <td>0.333333</td>\n      <td>-1.0</td>\n    </tr>\n    <tr>\n      <th>4</th>\n      <td>Chemical</td>\n      <td>12411.0</td>\n      <td>0.0</td>\n      <td>0.333333</td>\n      <td>-1.0</td>\n    </tr>\n    <tr>\n      <th>5</th>\n      <td>Computer</td>\n      <td>9776.0</td>\n      <td>0.0</td>\n      <td>0.333333</td>\n      <td>-1.0</td>\n    </tr>\n    <tr>\n      <th>6</th>\n      <td>Biomedical</td>\n      <td>7638.0</td>\n      <td>0.0</td>\n      <td>0.333333</td>\n      <td>-1.0</td>\n    </tr>\n    <tr>\n      <th>7</th>\n      <td>Industrial/Manuf./Systems</td>\n      <td>7166.0</td>\n      <td>0.0</td>\n      <td>0.333333</td>\n      <td>-1.0</td>\n    </tr>\n    <tr>\n      <th>8</th>\n      <td>Aerospace</td>\n      <td>4443.0</td>\n      <td>0.0</td>\n      <td>0.333333</td>\n      <td>-1.0</td>\n    </tr>\n    <tr>\n      <th>9</th>\n      <td>Petroleum</td>\n      <td>2269.0</td>\n      <td>0.0</td>\n      <td>0.333333</td>\n      <td>-1.0</td>\n    </tr>\n    <tr>\n      <th>10</th>\n      <td>Metallurgical/Materials</td>\n      <td>2043.0</td>\n      <td>0.0</td>\n      <td>0.333333</td>\n      <td>-1.0</td>\n    </tr>\n    <tr>\n      <th>11</th>\n      <td>Biological/Agricultural</td>\n      <td>1487.0</td>\n      <td>0.0</td>\n      <td>0.333333</td>\n      <td>-1.0</td>\n    </tr>\n    <tr>\n      <th>12</th>\n      <td>Environmental</td>\n      <td>1498.0</td>\n      <td>0.0</td>\n      <td>0.333333</td>\n      <td>-1.0</td>\n    </tr>\n    <tr>\n      <th>13</th>\n      <td>Nuclear</td>\n      <td>600.0</td>\n      <td>0.0</td>\n      <td>0.333333</td>\n      <td>-1.0</td>\n    </tr>\n    <tr>\n      <th>14</th>\n      <td>Mining</td>\n      <td>262.0</td>\n      <td>0.0</td>\n      <td>0.333333</td>\n      <td>-1.0</td>\n    </tr>\n  </tbody>\n</table>\n</div>"
     },
     "metadata": {},
     "execution_count": 22
    }
   ],
   "source": [
    "final_df : FrameOrSeries = grad_df.copy(deep=True)\n",
    "final_df.insert(2, \"num_jobs\", 0.0)\n",
    "final_df.insert(3, \"ratio_entry_level_total_jobs\", RATIO_ENTRY_LEVEL_TO_TOTAL_JOBS)\n",
    "final_df.insert(4, \"ratio_grads_entry_level_jobs\", -1.0)\n",
    "final_df"
   ]
  },
  {
   "cell_type": "code",
   "execution_count": 23,
   "metadata": {},
   "outputs": [
    {
     "output_type": "execute_result",
     "data": {
      "text/plain": "                        major  num_grads  num_jobs  \\\n0                  Mechanical    34570.0   23700.0   \n1            Computer Science    29480.0  134600.0   \n2                  Electrical    17201.0   22900.0   \n3                       Civil    14360.0   28300.0   \n4                    Chemical    12411.0    2400.0   \n5                    Computer     9776.0    5200.0   \n6                  Biomedical     7638.0    1500.0   \n7   Industrial/Manuf./Systems     7166.0   22600.0   \n8                   Aerospace     4443.0    4500.0   \n9                   Petroleum     2269.0    2500.0   \n10    Metallurgical/Materials     2043.0    1700.0   \n11    Biological/Agricultural     1487.0     200.0   \n12              Environmental     1498.0    4600.0   \n13                    Nuclear      600.0    1100.0   \n14                     Mining      262.0     500.0   \n\n    ratio_entry_level_total_jobs  ratio_grads_entry_level_jobs  \n0                       0.333333                      4.375949  \n1                       0.333333                      0.657058  \n2                       0.333333                      2.253406  \n3                       0.333333                      1.522261  \n4                       0.333333                     15.513750  \n5                       0.333333                      5.640000  \n6                       0.333333                     15.276000  \n7                       0.333333                      0.951239  \n8                       0.333333                      2.962000  \n9                       0.333333                      2.722800  \n10                      0.333333                      3.605294  \n11                      0.333333                     22.305000  \n12                      0.333333                      0.976957  \n13                      0.333333                      1.636364  \n14                      0.333333                      1.572000  ",
      "text/html": "<div>\n<style scoped>\n    .dataframe tbody tr th:only-of-type {\n        vertical-align: middle;\n    }\n\n    .dataframe tbody tr th {\n        vertical-align: top;\n    }\n\n    .dataframe thead th {\n        text-align: right;\n    }\n</style>\n<table border=\"1\" class=\"dataframe\">\n  <thead>\n    <tr style=\"text-align: right;\">\n      <th></th>\n      <th>major</th>\n      <th>num_grads</th>\n      <th>num_jobs</th>\n      <th>ratio_entry_level_total_jobs</th>\n      <th>ratio_grads_entry_level_jobs</th>\n    </tr>\n  </thead>\n  <tbody>\n    <tr>\n      <th>0</th>\n      <td>Mechanical</td>\n      <td>34570.0</td>\n      <td>23700.0</td>\n      <td>0.333333</td>\n      <td>4.375949</td>\n    </tr>\n    <tr>\n      <th>1</th>\n      <td>Computer Science</td>\n      <td>29480.0</td>\n      <td>134600.0</td>\n      <td>0.333333</td>\n      <td>0.657058</td>\n    </tr>\n    <tr>\n      <th>2</th>\n      <td>Electrical</td>\n      <td>17201.0</td>\n      <td>22900.0</td>\n      <td>0.333333</td>\n      <td>2.253406</td>\n    </tr>\n    <tr>\n      <th>3</th>\n      <td>Civil</td>\n      <td>14360.0</td>\n      <td>28300.0</td>\n      <td>0.333333</td>\n      <td>1.522261</td>\n    </tr>\n    <tr>\n      <th>4</th>\n      <td>Chemical</td>\n      <td>12411.0</td>\n      <td>2400.0</td>\n      <td>0.333333</td>\n      <td>15.513750</td>\n    </tr>\n    <tr>\n      <th>5</th>\n      <td>Computer</td>\n      <td>9776.0</td>\n      <td>5200.0</td>\n      <td>0.333333</td>\n      <td>5.640000</td>\n    </tr>\n    <tr>\n      <th>6</th>\n      <td>Biomedical</td>\n      <td>7638.0</td>\n      <td>1500.0</td>\n      <td>0.333333</td>\n      <td>15.276000</td>\n    </tr>\n    <tr>\n      <th>7</th>\n      <td>Industrial/Manuf./Systems</td>\n      <td>7166.0</td>\n      <td>22600.0</td>\n      <td>0.333333</td>\n      <td>0.951239</td>\n    </tr>\n    <tr>\n      <th>8</th>\n      <td>Aerospace</td>\n      <td>4443.0</td>\n      <td>4500.0</td>\n      <td>0.333333</td>\n      <td>2.962000</td>\n    </tr>\n    <tr>\n      <th>9</th>\n      <td>Petroleum</td>\n      <td>2269.0</td>\n      <td>2500.0</td>\n      <td>0.333333</td>\n      <td>2.722800</td>\n    </tr>\n    <tr>\n      <th>10</th>\n      <td>Metallurgical/Materials</td>\n      <td>2043.0</td>\n      <td>1700.0</td>\n      <td>0.333333</td>\n      <td>3.605294</td>\n    </tr>\n    <tr>\n      <th>11</th>\n      <td>Biological/Agricultural</td>\n      <td>1487.0</td>\n      <td>200.0</td>\n      <td>0.333333</td>\n      <td>22.305000</td>\n    </tr>\n    <tr>\n      <th>12</th>\n      <td>Environmental</td>\n      <td>1498.0</td>\n      <td>4600.0</td>\n      <td>0.333333</td>\n      <td>0.976957</td>\n    </tr>\n    <tr>\n      <th>13</th>\n      <td>Nuclear</td>\n      <td>600.0</td>\n      <td>1100.0</td>\n      <td>0.333333</td>\n      <td>1.636364</td>\n    </tr>\n    <tr>\n      <th>14</th>\n      <td>Mining</td>\n      <td>262.0</td>\n      <td>500.0</td>\n      <td>0.333333</td>\n      <td>1.572000</td>\n    </tr>\n  </tbody>\n</table>\n</div>"
     },
     "metadata": {},
     "execution_count": 23
    }
   ],
   "source": [
    "# Mechanical\n",
    "me_jobs : float = get_job_count_by_occupation(emp_df, \"Mechanical engineers\")\n",
    "nave_jobs : float = get_job_count_by_occupation(emp_df, \"Marine engineers and naval architects\")\n",
    "set_value_by_major(final_df, \"Mechanical\", \"num_jobs\", me_jobs + nave_jobs)\n",
    "compute_stats_for_major(final_df, \"Mechanical\")\n",
    "\n",
    "# Computer Science\n",
    "sda_jobs : float = get_job_count_by_occupation(emp_df, \"Software developers, applications\")\n",
    "sds_jobs : float = get_job_count_by_occupation(emp_df, \"Software developers, systems software\")\n",
    "set_value_by_major(final_df, \"Computer Science\", \"num_jobs\", sda_jobs + sds_jobs)\n",
    "compute_stats_for_major(final_df, \"Computer Science\")\n",
    "\n",
    "# Electrical\n",
    "ee_jobs : float = get_job_count_by_occupation(emp_df, \"Electrical engineers\")\n",
    "elece_jobs : float = get_job_count_by_occupation(emp_df, \"Electronics engineers, except computer\")\n",
    "set_value_by_major(final_df, \"Electrical\", \"num_jobs\", ee_jobs + elece_jobs)\n",
    "compute_stats_for_major(final_df, \"Electrical\")\n",
    "\n",
    "# Civil\n",
    "ce_jobs : float = get_job_count_by_occupation(emp_df, \"Civil engineers\")\n",
    "set_value_by_major(final_df, \"Civil\", \"num_jobs\", ce_jobs)\n",
    "compute_stats_for_major(final_df, \"Civil\")\n",
    "\n",
    "# Chemical\n",
    "cheme_jobs : float = get_job_count_by_occupation(emp_df, \"Chemical engineers\")\n",
    "set_value_by_major(final_df, \"Chemical\", \"num_jobs\", cheme_jobs)\n",
    "compute_stats_for_major(final_df, \"Chemical\")\n",
    "\n",
    "# Computer\n",
    "compe_jobs : float = get_job_count_by_occupation(emp_df, \"Computer hardware engineers\")\n",
    "set_value_by_major(final_df, \"Computer\", \"num_jobs\", compe_jobs)\n",
    "compute_stats_for_major(final_df, \"Computer\")\n",
    "\n",
    "# Biomedical\n",
    "biome_jobs : float = get_job_count_by_occupation(emp_df, \"Biomedical engineers\")\n",
    "set_value_by_major(final_df, \"Biomedical\", \"num_jobs\", biome_jobs)\n",
    "compute_stats_for_major(final_df, \"Biomedical\")\n",
    "\n",
    "# Industrial\n",
    "ie_jobs : float = get_job_count_by_occupation(emp_df, \"Industrial engineers\")\n",
    "set_value_by_major(final_df, \"Industrial/Manuf./Systems\", \"num_jobs\", ie_jobs)\n",
    "compute_stats_for_major(final_df, \"Industrial/Manuf./Systems\")\n",
    "\n",
    "# Aerospace\n",
    "ae_jobs : float = get_job_count_by_occupation(emp_df, \"Aerospace engineers\")\n",
    "set_value_by_major(final_df, \"Aerospace\", \"num_jobs\", ae_jobs)\n",
    "compute_stats_for_major(final_df, \"Aerospace\")\n",
    "\n",
    "# Petroleum\n",
    "pe_jobs : float = get_job_count_by_occupation(emp_df, \"Petroleum engineers\")\n",
    "set_value_by_major(final_df, \"Petroleum\", \"num_jobs\", pe_jobs)\n",
    "compute_stats_for_major(final_df, \"Petroleum\")\n",
    "\n",
    "# Materials\n",
    "mate_jobs : float = get_job_count_by_occupation(emp_df, \"Materials engineers\")\n",
    "set_value_by_major(final_df, \"Metallurgical/Materials\", \"num_jobs\", mate_jobs)\n",
    "compute_stats_for_major(final_df, \"Metallurgical/Materials\")\n",
    "\n",
    "# Agricultural\n",
    "agre_jobs : float = get_job_count_by_occupation(emp_df, \"Agricultural engineers\")\n",
    "set_value_by_major(final_df, \"Biological/Agricultural\", \"num_jobs\", agre_jobs)\n",
    "compute_stats_for_major(final_df, \"Biological/Agricultural\")\n",
    "\n",
    "# Environmental\n",
    "enve_jobs : float = get_job_count_by_occupation(emp_df, \"Environmental engineers\")\n",
    "set_value_by_major(final_df, \"Environmental\", \"num_jobs\", enve_jobs)\n",
    "compute_stats_for_major(final_df, \"Environmental\")\n",
    "\n",
    "# Nuclear\n",
    "ne_jobs : float = get_job_count_by_occupation(emp_df, \"Nuclear engineers\")\n",
    "set_value_by_major(final_df, \"Nuclear\", \"num_jobs\", ne_jobs)\n",
    "compute_stats_for_major(final_df, \"Nuclear\")\n",
    "\n",
    "# Mining\n",
    "mine_jobs : float = get_job_count_by_occupation(emp_df, \"Mining and geological engineers, including mining safety engineers\")\n",
    "set_value_by_major(final_df, \"Mining\", \"num_jobs\", mine_jobs)\n",
    "compute_stats_for_major(final_df, \"Mining\")\n",
    "\n",
    "final_df"
   ]
  },
  {
   "cell_type": "markdown",
   "metadata": {},
   "source": [
    "# Conclusions\n",
    "\n",
    "If we consider the assumptions made so far to be true, then we can make the following conclusions:\n",
    "* Some engineering majors experience almost no job saturation: computer science, industrial/manufacturing/systems engineering and environmental engineering. According to these ratios, basically all new graduates willing to relocate for jobs should be able to find one.\n",
    "    * One thing should be said about computer science: the ratio is extremely good (2/3), but in actuality it is very likely higher than 1. While the number of jobs is huge, one also has to take into account competition coming from non-traditional paths:\n",
    "        * A significantly large spillover of graduates from engineering disciplines with higher saturation rates often choose software jobs as well.\n",
    "        * A few companies often strongly rely on outsourcing\n",
    "        * Graduates from bootcamps and autodidacts sometimes can take part of the software development/engineering job market\n",
    "* Some majors have *extremely high* job market saturation. Agricultural engineers seem to have it worst, but it is very worrysome than very popular major such as chemical and biomedical engineering majors also have such levels of job market saturation.\n"
   ]
  },
  {
   "cell_type": "markdown",
   "metadata": {},
   "source": [
    "# Discussion\n",
    "\n",
    "## What next?\n",
    "\n",
    "What is next for engineering students already in some of the majors with saturated job markets? One possible course of action is to change majors to something with a better job market. It is easier said than done: while this may be relatively simple for an incoming first year, it is a much more difficult and less optimal endeavor for a third or fourth year student.\n",
    "\n",
    "There are many things any graduate can do to increase their chances of getting an entry-level engineering job upon graduation. While all should be encouraged to do these, people facing saturated jobs markets have all the more reason to do so. Some of these include:\n",
    "\n",
    "### Work experience\n",
    "\n",
    "This is fairly obvious: having internships, co-ops or part-time engineering jobs while in school increase the chances of a new graduate finding a job upon graduation. In general, potential employers prefer new graduates with experience as a way of ameliorating their initial training costs.\n",
    "\n",
    "But this becomes a chicken-and-egg problem: needing work experience to get work experience. To help break this cycle, consider the next two suggestions.\n",
    "\n",
    "### Networking with professionals in industry\n",
    "\n",
    "Instead of solely relying on career fairs and online applications, students should try to interact with people in industry. The best methods are introduction through faculty connections, industry recruiting events, alumni network events, mentoring programs sponsored by the university, and even cold contacts through LinkedIn.\n",
    "\n",
    "The author of this notebook has witnessed great levels of success through this method.\n",
    "\n",
    "### Major-relevant extracurricular activities\n",
    "\n",
    "Relevant extracurricula activities can also serve to make a new graduate's application stand out. Some of these could be interesting personal projects, meaningful participation in university engineering clubs, undergraduate research experience, among others.\n",
    "\n",
    "The most important consideration is to have an effective way of **showcasing** such extracurricular activities through a portfolio. This can be done as a website, online code reposiroty, videos hosted in a streaming service, or even as a slideshow in PDF format, for example.\n",
    "\n",
    "## One word about computer engineering\n",
    "\n",
    "I believe computer engineering is a very good major in spite of having such high ratio of new graduates to entry-level jobs. This is because they tend to also be a good (although IMHO less optimal; see below) entry point into the software engineer/developer occupation.\n",
    "\n",
    "Computer engineering is often thought of as a mix between electrical engineering and computer science. Unfortunately, I believe this diminishes its main strength: its focus on digital computer systems (i.e. semiconductor design and implementation, computer architecture, etc.) Most of their software coursework is often from a Computer Science department, but it tends to focus on computer systems more so than more typical computer science subjects (e.g. data structures and algorithms, applications, etc.) This is the main reason why this notebook does not specifically attempt to split software developer jobs across computer science and computer engineering (while not entirely considering it a mismatch).\n",
    "\n",
    "I do content a point: if one's goal is to go on to a career *exclusively* focused on software, then a computer science degree is likely not only a better fit but also a more accesible path. In my experience, electrical/computer engineering programs are hard due to typical engineering teaching practices and idiosyncracies: tests are fairly difficult, lots of conceptually hard subjects (namely tons of physics), etc. On the other hand, computer science is hard because of time commitment: programming assignments are very time-consuming, and often there's not much room for partial credit (either the software does its job or it does not). I personally think that, for a time-conscious, well-organized, good planning student, a computer science program will likely be easier. This results is better grades and especially in more time and opportunities to work on one's software portfolio (immensely important software job hunting tool).\n",
    "\n",
    "Further, the argument that studying computer engineering solely to have access to both software developer and computer hardware engineer job markets is IMHO not very convincing. The differences in scale between their respective entry-level job markets is too large (44.9k vs 1.7k) to make it a real consideration.\n"
   ]
  },
  {
   "cell_type": "markdown",
   "metadata": {},
   "source": [
    "# TODO\n",
    "\n",
    "* Revisit assumptions about ratio of annual average entry-level job openingss to annual average total job openings more in depth (very likely the most significant assumption in this notebook).\n",
    "* Evaluate whether to (and how) include job market growth statistics in this report or not\n",
    "* Check assumptions about split of software developer job openings among computer science, computer engineering and computer information systems.\n",
    "* Check assumptions about the impact of non-traditional career paths accessing software development jobs (i.e. spillage of graduates from other engineering disciplines, bootcamp graduates, self-taught developers, outsourcing and H1B consultants).\n",
    "* Get feedback on method (i.e. linear interpolation) of splitting combined majors and non-descriptive engineering disciplines (e.g. BEng and other).\n",
    "* Get domain-specific feedback on assumptions about splitting of architectural engineering graduates.\n",
    "* Get domain-specific feedback on merging of naval and marine engineering jobs into mechanical engineering jobs.\n",
    "* Get domain-specific feedback on merging of electronics engineering jobs into electrical engineering jobs.\n",
    "* Get feedback on assumptions about engineering management and decision to drop it.\n",
    "* Assess the impact of engineering students taking engineering technician jobs (which have their own employment projections data from the Us Bureau of Labor Statistics), and of engineering technology students taking engineering jobs\n",
    "* Considering how to add sales engineering jobs into the final data frame"
   ]
  },
  {
   "cell_type": "code",
   "execution_count": null,
   "metadata": {},
   "outputs": [],
   "source": []
  }
 ],
 "metadata": {
  "kernelspec": {
   "display_name": "Python 3",
   "language": "python",
   "name": "python3"
  },
  "language_info": {
   "codemirror_mode": {
    "name": "ipython",
    "version": 3
   },
   "file_extension": ".py",
   "mimetype": "text/x-python",
   "name": "python",
   "nbconvert_exporter": "python",
   "pygments_lexer": "ipython3",
   "version": "3.7.8-final"
  }
 },
 "nbformat": 4,
 "nbformat_minor": 2
}